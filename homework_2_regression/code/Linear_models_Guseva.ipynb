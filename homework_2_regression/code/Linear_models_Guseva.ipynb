{
  "cells": [
    {
      "cell_type": "markdown",
      "id": "88fe2596-8e7c-4c97-b347-7468994508f8",
      "metadata": {
        "id": "88fe2596-8e7c-4c97-b347-7468994508f8"
      },
      "source": [
        "# Домашнее задание №2 - Линейные модели. Градиентный спуск"
      ]
    },
    {
      "cell_type": "markdown",
      "id": "44123a57-0d05-4714-8fec-f4f4c6d254e0",
      "metadata": {
        "id": "44123a57-0d05-4714-8fec-f4f4c6d254e0"
      },
      "source": [
        "В этом домашнем задании мы с вами научимся обучать линейные модели регрессии и классификации при помощи очень мощного, но в то же время довольно понятного алгоритма, который называется **градиетный спуск**. Помимо линейных моделей он используется и для обучения самых сложных нейронных сетей! Также мы потренируемся применять готовые реализации линейных моделей для задач регрессии и бинарной классификации."
      ]
    },
    {
      "cell_type": "code",
      "execution_count": 1,
      "id": "a204ec7b-1f3c-439c-8a9e-0abbe270e696",
      "metadata": {
        "id": "a204ec7b-1f3c-439c-8a9e-0abbe270e696"
      },
      "outputs": [],
      "source": [
        "import numpy as np\n",
        "import matplotlib.pyplot as plt\n",
        "import seaborn as sns\n",
        "import random\n",
        "import pandas as pd\n",
        "\n",
        "from matplotlib import cm\n",
        "from mpl_toolkits.mplot3d import Axes3D\n",
        "from sklearn.exceptions import NotFittedError\n",
        "from sklearn.linear_model import (LinearRegression,\n",
        "                                  LogisticRegression)\n",
        "from sklearn.datasets import fetch_california_housing\n",
        "from sklearn.preprocessing import StandardScaler\n",
        "from sklearn.pipeline import Pipeline\n",
        "from sklearn.datasets import make_classification\n",
        "from sklearn.metrics import (r2_score,\n",
        "                             mean_squared_error)\n",
        "from sklearn.model_selection import train_test_split"
      ]
    },
    {
      "cell_type": "code",
      "execution_count": 2,
      "id": "340f9411-bcff-4fae-a4a7-3c42361de2f4",
      "metadata": {
        "id": "340f9411-bcff-4fae-a4a7-3c42361de2f4"
      },
      "outputs": [],
      "source": [
        "# plt.rcParams[\"figure.figsize\"] = 12, 9\n",
        "# sns.set_style(\"whitegrid\")\n",
        "\n",
        "SEED = 111\n",
        "random.seed(SEED)\n",
        "np.random.seed(SEED)"
      ]
    },
    {
      "cell_type": "markdown",
      "id": "585743eb-64a7-473e-832d-4e11ffb6ba87",
      "metadata": {
        "id": "585743eb-64a7-473e-832d-4e11ffb6ba87"
      },
      "source": [
        "#### Маленькое теоретическое отступление\n",
        "\n",
        "Основное свойство антиградиента (-1 * градиент) &ndash; он указывает в сторону наискорейшего убывания функции в данной точке. Соответственно, будет логично стартовать из некоторой точки, сдвинуться в сторону антиградиента, пересчитать антиградиент и снова сдвинуться в его сторону и т.д. Запишем это более формально.\n",
        "\n",
        "Пусть $w_0$ &ndash; начальный набор параметров (коэффициентов линейной модели) ((например, нулевой или сгенерированный из некоторого, случайного распределения)). Тогда обычный градиентный спуск состоит в повторении следующих шагов до сходимости:\n",
        "\n",
        "\n",
        "$$\n",
        "    w_{k + 1} = w_{k} - \\eta \\nabla_{w} Q(w_{k}),\n",
        "$$\n",
        "\n",
        "где $\\nabla_{w} Q(w_{k})$ &ndash; градиент функции потерь в точке $w_k$, а $\\eta$ &ndash; скорость обучения (learning rate).\n",
        "\n",
        "Градиентный спуск обычно останавливают, когда прошло заданное максимальное количество итераций или когда графиент близок к нулю (т.е. наши параметры практически не меняются). Для реализации второго варианта считают норму градиента (по сути длину вектора). Это можно сделать несколькими способами:\n",
        "\n",
        "$$\n",
        "l1_{norm} = \\sum{|w_i|}\n",
        "$$\n",
        "\n",
        "$$\n",
        "l2_{norm} = \\sum{(w_i)^{2}}\n",
        "$$\n",
        "\n",
        "Попробуем разобраться на простом примере. Рассмотрим функцию от двух переменных:\n",
        "$f(x, y) = \\sin^2 x + \\sin^2 y$"
      ]
    },
    {
      "cell_type": "code",
      "execution_count": 3,
      "id": "cb249259-87ef-456f-a904-402b90c82521",
      "metadata": {
        "id": "cb249259-87ef-456f-a904-402b90c82521"
      },
      "outputs": [],
      "source": [
        "def f(w):\n",
        "    \"\"\"\n",
        "    :param w: np.array(np.float) вектор из 2-х элементов\n",
        "    :return: np.float\n",
        "    \"\"\"\n",
        "    \n",
        "    return np.sum(np.sin(w)**2)"
      ]
    },
    {
      "cell_type": "markdown",
      "id": "115abe74-2f98-4a02-858b-2693dec08355",
      "metadata": {
        "id": "115abe74-2f98-4a02-858b-2693dec08355"
      },
      "source": [
        "Обратите внимание, что $x$ - numpy-array вектор длины 2."
      ]
    },
    {
      "cell_type": "markdown",
      "id": "635ed65b-4e40-4924-924b-54253bb8c6d9",
      "metadata": {
        "id": "635ed65b-4e40-4924-924b-54253bb8c6d9"
      },
      "source": [
        "***Reminder:***  \n",
        "Что мы хотим? Мы хотим найти минимум этой функции (в машинном обучении мы обычно хотим найти минимум **функции потерь**, например, MSE), а точнее найти $w_1$ и $w_2$ такие, что при них значение $f(w_1, w_2)$ минимально, то есть *точку экстремума*.  \n",
        "  \n",
        "Как мы будем искать эту точку? Используем методы оптимизации (в нашем случае - *минимизации*). Одним из таких методов и является **градиентный спуск**."
      ]
    },
    {
      "cell_type": "markdown",
      "id": "27c32299-e7e3-4600-bf00-064d197f6864",
      "metadata": {
        "id": "27c32299-e7e3-4600-bf00-064d197f6864"
      },
      "source": [
        "### Задание 1. Градиентный спуск для функции $f$ (1 балл)"
      ]
    },
    {
      "cell_type": "markdown",
      "id": "c2262d3e-8f6f-4921-af13-e74e4c4e6bbb",
      "metadata": {
        "id": "c2262d3e-8f6f-4921-af13-e74e4c4e6bbb"
      },
      "source": [
        "Реализуйте функцию, которая будет осуществлять градиентный спуск для функции $f$:\n",
        "\n",
        "*Примечание:* Вам нужно посчитать частные производные именно **аналитически** и **переписать их в код**, а не считать производные численно (через отношение приращения функции к приращению аргумента) -- в этих двух случаях могут различаться ответы, поэтому будьте внимательны."
      ]
    },
    {
      "cell_type": "code",
      "execution_count": 4,
      "id": "aa083d99-7a02-4b6e-8548-9c9ebee381c7",
      "metadata": {
        "id": "aa083d99-7a02-4b6e-8548-9c9ebee381c7"
      },
      "outputs": [],
      "source": [
        "def grad_f(w): \n",
        "    \"\"\"\n",
        "    Градиент функциии f, определенной выше.\n",
        "        :param w: np.array[2]: float вектор из 2-х элементов\n",
        "        :return: np.array[2]: float вектор из 2-х элементов\n",
        "    \"\"\"\n",
        "    \n",
        "    partial_x = 2 * np.sin(w[0]) * np.cos(w[0])\n",
        "    partial_y = 2 * np.sin(w[1]) * np.cos(w[1])\n",
        "\n",
        "    return np.array([partial_x, partial_y])"
      ]
    },
    {
      "cell_type": "markdown",
      "id": "9d184304-6bbd-4626-93c1-56e62fc9f343",
      "metadata": {
        "id": "9d184304-6bbd-4626-93c1-56e62fc9f343"
      },
      "source": [
        "Проверим, что градиент принимает вектор из двух чисел и выдает на этой точке верное значение"
      ]
    },
    {
      "cell_type": "code",
      "execution_count": 5,
      "id": "29698da3-07ca-45f6-baff-dd49c82db8c8",
      "metadata": {
        "id": "29698da3-07ca-45f6-baff-dd49c82db8c8"
      },
      "outputs": [],
      "source": [
        "assert np.allclose(grad_f(np.array([1, 2])), \n",
        "                   np.array([0.90929743, -0.7568025])), \"Что-то не так!\""
      ]
    },
    {
      "cell_type": "code",
      "execution_count": 6,
      "id": "0088604b-1d75-4d83-bda8-0d08e909c2cb",
      "metadata": {
        "id": "0088604b-1d75-4d83-bda8-0d08e909c2cb"
      },
      "outputs": [],
      "source": [
        "def grad_descent_2d(f, grad_f, lr, num_iter=100, x0=None):\n",
        "    \"\"\"\n",
        "    Функция, которая реализует градиентный спуск в минимум для функции f от двух переменных. \n",
        "        :param f: скалярная функция двух переменных\n",
        "        :param grad_f: функция, возвращающая градиент функции f (устроена как реализованная вами выше grad_f)\n",
        "        :param lr: learning rate алгоритма\n",
        "        :param num_iter: количество итераций градиентного спуска\n",
        "        :return: np.array[num_iter, 2] пар вида (x, f(x))\n",
        "    \"\"\"\n",
        "    \n",
        "    w0 = np.random.random(2)\n",
        "\n",
        "    # будем сохранять значения аргументов и значений функции \n",
        "    # в процессе град. спуска в переменную history\n",
        "    history = []\n",
        "\n",
        "    # итерация цикла == шаг градиентнго спуска\n",
        "    curr_w = (w0.copy(), x0)[int(bool(x0))]\n",
        "    \n",
        "    for iter_num in range(num_iter):\n",
        "        entry = np.hstack((curr_w, f(curr_w)))\n",
        "        history.append(entry)\n",
        "    \n",
        "        curr_w -= lr * grad_f(curr_w) #  YOUR CODE. Не забудьте про lr!\n",
        "\n",
        "    return np.vstack(history)"
      ]
    },
    {
      "cell_type": "markdown",
      "id": "01ec67a6-4bac-4d6f-808d-6551cf7a32b4",
      "metadata": {
        "id": "01ec67a6-4bac-4d6f-808d-6551cf7a32b4"
      },
      "source": [
        "Визуализируем точки градиентного спуска на 3D-графике нашей функции. Звездочками будут обозначены точки (тройки $w_1, w_2, f(w_1, w_2)$), по которым Ваш алгоритм градиентного спуска двигался к минимуму (Для того, чтобы написовать этот график, мы и сохраняли значения $cur\\_w_1, cur\\_w_2, f(cur\\_w_1, cur\\_w_2)$ в `steps` в процессе спуска).\n",
        "\n",
        "Если у Вас правильно написана функция `grad_descent_2d`, то звездочки на картинке должны сходиться к одной из точек минимума функции. Вы можете менять начальные приближения алгоритма, значения `lr` и `num_iter` и получать разные результаты."
      ]
    },
    {
      "cell_type": "code",
      "execution_count": 7,
      "id": "67bda638-aa89-4e33-a4cd-bfd52a3178e7",
      "metadata": {
        "id": "67bda638-aa89-4e33-a4cd-bfd52a3178e7"
      },
      "outputs": [],
      "source": [
        "def gradient_desc_vis(f, grad_f, lr=0.1, num_iter=20):\n",
        "    steps = grad_descent_2d(f, grad_f, lr=lr, num_iter=num_iter)\n",
        "    \n",
        "    X, Y = np.meshgrid(np.linspace(-3, 3, 100), np.linspace(-3, 3, 100))\n",
        "\n",
        "    fig = plt.figure(figsize=(8, 5))\n",
        "    ax = fig.add_subplot(projection=\"3d\")\n",
        "\n",
        "    zs = np.array([f(np.array([x,y]))\n",
        "                  for x, y in zip(np.ravel(X), np.ravel(Y))])\n",
        "    Z = zs.reshape(X.shape)\n",
        "\n",
        "\n",
        "    ax.plot_surface(X, Y, Z, cmap=cm.coolwarm, zorder=2)\n",
        "\n",
        "    ax.plot(xs=steps[:, 0], ys=steps[:, 1], zs=steps[:, 2],\n",
        "            marker=\"*\", markersize=8, zorder=3, \n",
        "            markerfacecolor=\"y\", lw=3, c=\"black\")\n",
        "\n",
        "    ax.set_zlim(0, 5); ax.view_init(elev=60)\n",
        "    ax.set_title(\"The 2D sine fuction and it's local min\", y=1.1)\n",
        "    plt.show()\n",
        "    \n",
        "    return steps"
      ]
    },
    {
      "cell_type": "code",
      "execution_count": 8,
      "id": "6d61bf52-070a-49af-b6a1-20f8777cd99b",
      "metadata": {
        "colab": {
          "base_uri": "https://localhost:8080/",
          "height": 321
        },
        "id": "6d61bf52-070a-49af-b6a1-20f8777cd99b",
        "outputId": "4c13f86a-f14a-4c1b-8d43-fc1f2296d1c1"
      },
      "outputs": [
        {
          "output_type": "display_data",
          "data": {
            "text/plain": [
              "<Figure size 576x360 with 1 Axes>"
            ],
            "image/png": "[encoded data removed]"
          },
          "metadata": {
            "needs_background": "light"
          }
        }
      ],
      "source": [
        "steps = gradient_desc_vis(f, grad_f)"
      ]
    },
    {
      "cell_type": "markdown",
      "id": "9926b095-f101-4a0d-b480-e5b1e98e082e",
      "metadata": {
        "id": "9926b095-f101-4a0d-b480-e5b1e98e082e"
      },
      "source": [
        "Посмотрим на зависимость значения функции от шага градиентного спуска."
      ]
    },
    {
      "cell_type": "code",
      "execution_count": 9,
      "id": "502f4b3e-bce5-42d8-a91b-34c7591bf830",
      "metadata": {
        "colab": {
          "base_uri": "https://localhost:8080/",
          "height": 240
        },
        "id": "502f4b3e-bce5-42d8-a91b-34c7591bf830",
        "outputId": "ef95d51f-6f8c-4c6f-bedc-7ab21f5ddddb"
      },
      "outputs": [
        {
          "output_type": "display_data",
          "data": {
            "text/plain": [
              "<Figure size 432x216 with 1 Axes>"
            ],
            "image/png": "[encoded data removed]"
          },
          "metadata": {
            "needs_background": "light"
          }
        }
      ],
      "source": [
        "plt.figure(figsize=(6,3))\n",
        "plt.xlabel(\"grad descent step number\")\n",
        "plt.ylabel(\"$f(x)$\")\n",
        "plt.title(\"Значение функции на каждом шаге гардиентного спуска\")\n",
        "\n",
        "f_values = list(map(lambda x: x[2], steps))\n",
        "plt.plot(f_values, label=\"gradient descent result\")\n",
        "plt.legend();"
      ]
    },
    {
      "cell_type": "markdown",
      "id": "b861f39c-8850-42db-9e9f-23e96652c376",
      "metadata": {
        "id": "b861f39c-8850-42db-9e9f-23e96652c376"
      },
      "source": [
        "### Задание 2. Реализация линейной регресии (суммарно 9 баллов)"
      ]
    },
    {
      "cell_type": "markdown",
      "id": "357ad605-faf2-4a3a-9d6f-aad2f6a452d4",
      "metadata": {
        "id": "357ad605-faf2-4a3a-9d6f-aad2f6a452d4"
      },
      "source": [
        "Так как мы будем использовать градиентный спуск для обучения модели, важной часть является реализация функции потерь и функции для расчета ее градиента. Перем началом стоит напомнить, как считать градиент MSE. Вывод этой формулы можно найти  [здесь](https://medium.com/analytics-vidhya/linear-regression-gradient-descent-intuition-and-math-c9a8f5aeeb22)\n",
        "\n",
        "$$\n",
        "    MSE = \\frac{1}{N}\\sum(y_{true} - y_{pred}) ^ 2\n",
        "$$\n",
        "\n",
        "$$\n",
        "    \\nabla{MSE} = \\frac{2}{N} X^T (y_{pred} - y_{true})\n",
        "$$\n",
        "\n",
        "Здесь имеется в виду именно матричное умножение."
      ]
    },
    {
      "cell_type": "markdown",
      "id": "b008e5f3-f2d8-4807-812f-ca2d8b3a5bc5",
      "metadata": {
        "id": "b008e5f3-f2d8-4807-812f-ca2d8b3a5bc5"
      },
      "source": [
        "#### Задание 2.1. MSE и ее градиент (2 балла)"
      ]
    },
    {
      "cell_type": "code",
      "execution_count": 10,
      "id": "d96e3cf7-2c6c-4572-a5d8-add05e952bf7",
      "metadata": {
        "id": "d96e3cf7-2c6c-4572-a5d8-add05e952bf7"
      },
      "outputs": [],
      "source": [
        "def mse(y_true, y_pred):\n",
        "    \"\"\"\n",
        "    Функция потерь MSE.\n",
        "        :param y_true: np.array[n_samples]: вектор из правильных ответов\n",
        "        :param y_pred: np.array[n_samples]: вектор из предсказаний модели\n",
        "        :return: значение функции потерь\n",
        "    \"\"\"\n",
        "    \n",
        "    if  y_true.shape[0] != y_pred.shape[0]:\n",
        "        raise ValueError(\"Number of samples in both vectors should be equal\")\n",
        "        \n",
        "    return np.sum((y_true - y_pred)**2) / y_true.shape[0]\n",
        "\n",
        "\n",
        "def mse_grad(y_true, y_pred, X):\n",
        "    \"\"\"\n",
        "    Функция для расчета градиента MSE.\n",
        "        :param y_true: np.array[n_samples]: вектор из правильных ответов\n",
        "        :param y_pred: np.array[n_samples]: вектор из предсказаний модели\n",
        "        :param X: np.array[n_samples, n_features]: матрица объекты x признаки\n",
        "        :return: градиент функции потерь MSE\n",
        "    \"\"\"\n",
        "    \n",
        "    if  y_true.shape[0] != y_pred.shape[0]:\n",
        "        raise ValueError(\"Number of samples in both vectors should be equal\")\n",
        "        \n",
        "    return 2 * X.T @ (y_pred - y_true) / y_true.shape[0] #len(y_true)\n",
        "\n",
        "\n",
        "class MSELoss:\n",
        "    \"\"\"\n",
        "    Класс, реализующий функцию потерь MSE. Нужен для того, чтобы\n",
        "    объединять в одном месте функцию потерь и градиент для нее.\n",
        "    \"\"\"\n",
        "    \n",
        "    def __call__(self, y_true, y_pred):\n",
        "        return mse(y_true, y_pred)\n",
        "    \n",
        "    def calculate_gradient(self, y_true, y_pred, X):\n",
        "        return mse_grad(y_true, y_pred, X)"
      ]
    },
    {
      "cell_type": "markdown",
      "id": "1f7728e2-91bb-4925-9ebd-066f51a45a3b",
      "metadata": {
        "id": "1f7728e2-91bb-4925-9ebd-066f51a45a3b"
      },
      "source": [
        "Мы будем использовать следующий класс для расчета градиента наших функций потерь:"
      ]
    },
    {
      "cell_type": "code",
      "execution_count": 11,
      "id": "de02bf42-aa5e-473e-811d-d0f203228c8e",
      "metadata": {
        "id": "de02bf42-aa5e-473e-811d-d0f203228c8e"
      },
      "outputs": [],
      "source": [
        "class BasicGradientDescent:\n",
        "    \"\"\"\n",
        "    Класс, позволяющий делать шаги градиентного спуска,\n",
        "    а также рассчитывающих норму градиента.\n",
        "    \"\"\"\n",
        "    \n",
        "    def __init__(self, loss_function, grad_norm):\n",
        "        self.loss = loss_function\n",
        "        self.grad_norm = grad_norm\n",
        "        \n",
        "    \n",
        "    def step(self, y, y_pred, X):\n",
        "        grad_i = self.loss.calculate_gradient(y, y_pred, X)\n",
        "        grad_i_norm = self._calculate_grad_norm(grad_i)\n",
        "        \n",
        "        return grad_i, grad_i_norm\n",
        "            \n",
        "            \n",
        "    def _calculate_grad_norm(self, grad_i):\n",
        "        if self.grad_norm == \"l1\":\n",
        "            return np.abs(grad_i).sum()\n",
        "        elif self.grad_norm == \"l2\":\n",
        "            return np.sqrt(np.square(grad_i).sum())\n",
        "        else:\n",
        "            raise ValueError(f\"I can't calculate {self.grad_norm} norm of gradient\")"
      ]
    },
    {
      "cell_type": "markdown",
      "id": "d9efeb62-1226-4816-ad30-856ca0ac7dcb",
      "metadata": {
        "id": "d9efeb62-1226-4816-ad30-856ca0ac7dcb"
      },
      "source": [
        "В данном задании нужно будет реализовать линейную регрессию и обучить ее при помощи градиентного спуска. Для этого нужно будет заполнять пропуски кода в соответствующих классах. Для начала мы реализуем базовый класс для всех линейных моделей, от которого потом будем наследоваться при реализации линейной и логистической регресий. Не переживайте, этот класс уже реализован, вам достостаточно просто разобраться с кодом."
      ]
    },
    {
      "cell_type": "code",
      "execution_count": 12,
      "id": "a064fe6a-9ffa-4cb2-8418-b9a0d4c21b0b",
      "metadata": {
        "id": "a064fe6a-9ffa-4cb2-8418-b9a0d4c21b0b"
      },
      "outputs": [],
      "source": [
        "class BaseLinearModel:\n",
        "    \"\"\"\n",
        "    Класс, который представляет из себя базовую линейную модель, наследуюясь от которого, мы будем\n",
        "    реализовывать линейную и логистическую регрессии.\n",
        "    \"\"\"\n",
        "    \n",
        "    def __init__(self, learning_rate, \n",
        "                 loss_function, fit_intercept,\n",
        "                 n_iter, tol, optimizer, grad_norm):\n",
        "        \"\"\"\n",
        "        Конструктор нашего класса. \n",
        "            :param learning_rate: скорость обучения\n",
        "            :param loss_function: функция потерь (MSE или кросс-энтропия)\n",
        "            :param fit_intercept: нужно ли нам включать свободных член в модель\n",
        "            :param n_iter: количество итераций градиентного спуска\n",
        "            :param tol: параметр для остановки градиентного спуска,\n",
        "                        если норма градиента (l1 или l2) меньше tol, то останавливаемся\n",
        "            :param optimizer: класс, который будет рассчитывать градиент и его норму\n",
        "            :param grad_norm: тип нормы градиента l1 или l2\n",
        "        \"\"\"\n",
        "        \n",
        "        self.learning_rate = learning_rate\n",
        "        self.loss = loss_function\n",
        "        self.fit_intercept = fit_intercept\n",
        "        self.n_iter = n_iter\n",
        "        self.tol = tol\n",
        "        self.grad_norm = grad_norm\n",
        "        self.optimizer = optimizer(loss_function, grad_norm)\n",
        "        \n",
        "        # В начале параметры модели не заданы\n",
        "        self.W = None\n",
        "        \n",
        "        \n",
        "    def fit(self, X, y):\n",
        "        \"\"\"\n",
        "        Метод для обучения нашей модели \n",
        "            :param X: матрица объекты x признаки\n",
        "            :param y: вектор значений целевой переменной\n",
        "            :return: обученная модель\n",
        "        \"\"\"\n",
        "        \n",
        "        # Сделаем из y вектор-столбец (n_samples, 1)\n",
        "        y = y.reshape(-1, 1)\n",
        "        n_samples = X.shape[0]\n",
        "        \n",
        "        # Добавим колонку из 1 в матрицу X\n",
        "        if self.fit_intercept:\n",
        "            ones_column = np.ones((n_samples, 1))\n",
        "            X_new = np.hstack((ones_column, X))\n",
        "        \n",
        "        n_features = X_new.shape[1]\n",
        "        \n",
        "        # Инициализируем веса модели\n",
        "        if self.W is None:\n",
        "            self.W = np.random.randn(n_features, 1)\n",
        "        \n",
        "        # Обучаем модель градиентным спуском\n",
        "        for i in range(self.n_iter):\n",
        "            y_pred = self.predict(X)\n",
        "            grad_i, grad_i_norm = self.optimizer.step(y, y_pred, X_new)\n",
        "            \n",
        "            # Если градиент близок к 0, останавливаемся\n",
        "            if grad_i_norm <= self.tol:\n",
        "                return self\n",
        "            \n",
        "            else:\n",
        "                self.W -= self.learning_rate * grad_i\n",
        "        \n",
        "        return self\n",
        "    \n",
        "    \n",
        "    def predict(self, X):\n",
        "        raise NotImplementedError(\"It is a basic class for all linear models. You should implement it for descendant class.\")\n",
        "    \n",
        "    \n",
        "    def __repr__(self):\n",
        "        return \"Base linear model without prediction skill :(\""
      ]
    },
    {
      "cell_type": "markdown",
      "id": "a07f9ba2-ea51-4bd1-a809-cb3d725cb633",
      "metadata": {
        "id": "a07f9ba2-ea51-4bd1-a809-cb3d725cb633"
      },
      "source": [
        "#### Задание 2.2. Предсказания линейной регрессии (3 балла)\n",
        "\n",
        "Реализуйте метод `predict` у класса `CustomLinearRegression`, не забудьте про свободный член!"
      ]
    },
    {
      "cell_type": "code",
      "execution_count": 13,
      "id": "57bf7176-1acf-42ec-9689-d8667ba49ce6",
      "metadata": {
        "id": "57bf7176-1acf-42ec-9689-d8667ba49ce6"
      },
      "outputs": [],
      "source": [
        "class CustomLinearRegression(BaseLinearModel):\n",
        "    def __init__(self, learning_rate: float = 1e-2, \n",
        "                 loss_function=MSELoss(), fit_intercept=True,\n",
        "                 n_iter=1000, tol=1e-5, optimizer=BasicGradientDescent, grad_norm=\"l1\"):\n",
        "        \n",
        "        # Если вы не проходили наследование и в частности `super`, то не страшно\n",
        "        # коротко, с помощью этого мы можем вызывать методы родительского класса\n",
        "        # в частности здесь мы используем метод `init`\n",
        "        super().__init__(learning_rate=learning_rate, \n",
        "                         loss_function=loss_function, fit_intercept=fit_intercept,\n",
        "                         n_iter=n_iter, tol=tol, optimizer=optimizer, grad_norm=grad_norm)\n",
        "        \n",
        "    \n",
        "    def predict(self, X_test):\n",
        "        \"\"\"\n",
        "        Метод для вычисления предсказаний \n",
        "            :param X_test: np.array[n_test_samples, n_features]: \n",
        "                           матрица объекты x признаки (тестовый датасет)\n",
        "            :return: y_pred: np.array[n_test_samples, 1]: предсказания модели\n",
        "        \"\"\"\n",
        "        \n",
        "        if self.W is None:\n",
        "            raise NotFittedError(\"This CustomLinearRegression instance is not fitted yet, run fit method.\")\n",
        "        \n",
        "        n_test_samples = X_test.shape[0]\n",
        "        if self.fit_intercept:\n",
        "            ones_column = np.ones((n_test_samples, 1))\n",
        "            X_test = np.hstack((ones_column, X_test))\n",
        "            \n",
        "        y_pred = X_test @ self.W\n",
        "\n",
        "        return y_pred\n",
        "    \n",
        "    \n",
        "    def __repr__(self):\n",
        "        return \"My custom linear regression\""
      ]
    },
    {
      "cell_type": "markdown",
      "id": "a20d6bd1-9d65-4e54-b817-a64358a9dfee",
      "metadata": {
        "id": "a20d6bd1-9d65-4e54-b817-a64358a9dfee"
      },
      "source": [
        "##### Проверим нашу реализацию на простом примере"
      ]
    },
    {
      "cell_type": "code",
      "execution_count": 14,
      "id": "e35eaf43-d38f-40d6-b901-b7daa2741dcc",
      "metadata": {
        "id": "e35eaf43-d38f-40d6-b901-b7daa2741dcc"
      },
      "outputs": [],
      "source": [
        "X = np.random.randn(100, 1)\n",
        "y = 2 * X + 5 + 0.5 * np.random.randn(100, 1)"
      ]
    },
    {
      "cell_type": "code",
      "execution_count": 15,
      "id": "f3c2603a-85a5-4ae1-8c1d-0174680e80c1",
      "metadata": {
        "id": "f3c2603a-85a5-4ae1-8c1d-0174680e80c1",
        "colab": {
          "base_uri": "https://localhost:8080/",
          "height": 264
        },
        "outputId": "98edc42e-275d-4e28-e186-860c540152bf"
      },
      "outputs": [
        {
          "output_type": "display_data",
          "data": {
            "text/plain": [
              "<Figure size 432x288 with 1 Axes>"
            ],
            "image/png": "[encoded data removed]"
          },
          "metadata": {
            "needs_background": "light"
          }
        }
      ],
      "source": [
        "plt.scatter(X, y);"
      ]
    },
    {
      "cell_type": "code",
      "execution_count": 16,
      "id": "0e126a10-449d-4d6a-b752-986e9b8bab88",
      "metadata": {
        "id": "0e126a10-449d-4d6a-b752-986e9b8bab88"
      },
      "outputs": [],
      "source": [
        "custom_lin_reg = CustomLinearRegression()"
      ]
    },
    {
      "cell_type": "code",
      "execution_count": 17,
      "id": "ae63e50e-4ae6-4fc0-8121-03758417e233",
      "metadata": {
        "id": "ae63e50e-4ae6-4fc0-8121-03758417e233",
        "colab": {
          "base_uri": "https://localhost:8080/"
        },
        "outputId": "a43508a7-1973-4a8e-a5f0-98d11ec92671"
      },
      "outputs": [
        {
          "output_type": "execute_result",
          "data": {
            "text/plain": [
              "My custom linear regression"
            ]
          },
          "metadata": {},
          "execution_count": 17
        }
      ],
      "source": [
        "custom_lin_reg.fit(X, y)"
      ]
    },
    {
      "cell_type": "code",
      "execution_count": 18,
      "id": "19d9394a-d9d4-40d0-b772-208d4953cb9b",
      "metadata": {
        "id": "19d9394a-d9d4-40d0-b772-208d4953cb9b",
        "colab": {
          "base_uri": "https://localhost:8080/",
          "height": 264
        },
        "outputId": "61f0d8eb-afbc-4a19-eae1-fead0c354de0"
      },
      "outputs": [
        {
          "output_type": "display_data",
          "data": {
            "text/plain": [
              "<Figure size 432x288 with 1 Axes>"
            ],
            "image/png": "[encoded data removed]"
          },
          "metadata": {
            "needs_background": "light"
          }
        }
      ],
      "source": [
        "plt.scatter(X, y)\n",
        "plt.plot(X, custom_lin_reg.predict(X));"
      ]
    },
    {
      "cell_type": "markdown",
      "id": "3ad4bf18-9a5d-4409-b04b-dba080f9ab73",
      "metadata": {
        "id": "3ad4bf18-9a5d-4409-b04b-dba080f9ab73"
      },
      "source": [
        "#### Задание 2.3. Используем встроенную линейную регрессию (4 балла)\n",
        "\n",
        "Поработаем с данными о ценах на дома в Калифорнии. Постройте модель линейной регресии при помощи `LinearRegression` из `sklearn`. Не забудьте разделить данные на тренировочную и тестовую части, а также правильно предобработать признаки. В конце воспользуйтесь какими-то изученными метриками регресии и сделайте выводы о качестве полученной модели, а также о том, какие признаки наиболее важны с точки зрения полученной модели."
      ]
    },
    {
      "cell_type": "code",
      "execution_count": 19,
      "id": "e160cf48-e9ad-4866-aaf0-77429002065f",
      "metadata": {
        "id": "e160cf48-e9ad-4866-aaf0-77429002065f"
      },
      "outputs": [],
      "source": [
        "data = fetch_california_housing()\n",
        "X, y = data[\"data\"], data[\"target\"]\n",
        "feature_names = data[\"feature_names\"]"
      ]
    },
    {
      "cell_type": "markdown",
      "id": "36099aea-e9c1-4e76-a3c0-bb6f9b8f24ca",
      "metadata": {
        "id": "36099aea-e9c1-4e76-a3c0-bb6f9b8f24ca"
      },
      "source": [
        "Ваш ход:"
      ]
    },
    {
      "cell_type": "code",
      "source": [
        "print(data.DESCR)"
      ],
      "metadata": {
        "colab": {
          "base_uri": "https://localhost:8080/"
        },
        "id": "QZwfiPkbSYaZ",
        "outputId": "e35f656d-b786-449c-e8ab-82ede46f9c09"
      },
      "id": "QZwfiPkbSYaZ",
      "execution_count": 20,
      "outputs": [
        {
          "output_type": "stream",
          "name": "stdout",
          "text": [
            ".. _california_housing_dataset:\n",
            "\n",
            "California Housing dataset\n",
            "--------------------------\n",
            "\n",
            "**Data Set Characteristics:**\n",
            "\n",
            "    :Number of Instances: 20640\n",
            "\n",
            "    :Number of Attributes: 8 numeric, predictive attributes and the target\n",
            "\n",
            "    :Attribute Information:\n",
            "        - MedInc        median income in block group\n",
            "        - HouseAge      median house age in block group\n",
            "        - AveRooms      average number of rooms per household\n",
            "        - AveBedrms     average number of bedrooms per household\n",
            "        - Population    block group population\n",
            "        - AveOccup      average number of household members\n",
            "        - Latitude      block group latitude\n",
            "        - Longitude     block group longitude\n",
            "\n",
            "    :Missing Attribute Values: None\n",
            "\n",
            "This dataset was obtained from the StatLib repository.\n",
            "https://www.dcc.fc.up.pt/~ltorgo/Regression/cal_housing.html\n",
            "\n",
            "The target variable is the median house value for California districts,\n",
            "expressed in hundreds of thousands of dollars ($100,000).\n",
            "\n",
            "This dataset was derived from the 1990 U.S. census, using one row per census\n",
            "block group. A block group is the smallest geographical unit for which the U.S.\n",
            "Census Bureau publishes sample data (a block group typically has a population\n",
            "of 600 to 3,000 people).\n",
            "\n",
            "An household is a group of people residing within a home. Since the average\n",
            "number of rooms and bedrooms in this dataset are provided per household, these\n",
            "columns may take surpinsingly large values for block groups with few households\n",
            "and many empty houses, such as vacation resorts.\n",
            "\n",
            "It can be downloaded/loaded using the\n",
            ":func:`sklearn.datasets.fetch_california_housing` function.\n",
            "\n",
            ".. topic:: References\n",
            "\n",
            "    - Pace, R. Kelley and Ronald Barry, Sparse Spatial Autoregressions,\n",
            "      Statistics and Probability Letters, 33 (1997) 291-297\n",
            "\n"
          ]
        }
      ]
    },
    {
      "cell_type": "code",
      "execution_count": 21,
      "id": "92ea784d-41a9-45ac-9c75-7307c207020b",
      "metadata": {
        "id": "92ea784d-41a9-45ac-9c75-7307c207020b",
        "colab": {
          "base_uri": "https://localhost:8080/",
          "height": 291
        },
        "outputId": "f5484e2a-e5e0-43b3-e93a-587adbee0cf2"
      },
      "outputs": [
        {
          "output_type": "execute_result",
          "data": {
            "text/plain": [
              "             MedInc      HouseAge      AveRooms     AveBedrms    Population  \\\n",
              "count  20640.000000  20640.000000  20640.000000  20640.000000  20640.000000   \n",
              "mean       3.870671     28.639486      5.429000      1.096675   1425.476744   \n",
              "std        1.899822     12.585558      2.474173      0.473911   1132.462122   \n",
              "min        0.499900      1.000000      0.846154      0.333333      3.000000   \n",
              "25%        2.563400     18.000000      4.440716      1.006079    787.000000   \n",
              "50%        3.534800     29.000000      5.229129      1.048780   1166.000000   \n",
              "75%        4.743250     37.000000      6.052381      1.099526   1725.000000   \n",
              "max       15.000100     52.000000    141.909091     34.066667  35682.000000   \n",
              "\n",
              "           AveOccup      Latitude     Longitude  \n",
              "count  20640.000000  20640.000000  20640.000000  \n",
              "mean       3.070655     35.631861   -119.569704  \n",
              "std       10.386050      2.135952      2.003532  \n",
              "min        0.692308     32.540000   -124.350000  \n",
              "25%        2.429741     33.930000   -121.800000  \n",
              "50%        2.818116     34.260000   -118.490000  \n",
              "75%        3.282261     37.710000   -118.010000  \n",
              "max     1243.333333     41.950000   -114.310000  "
            ],
            "text/html": [
              "\n",
              "  <div id=\"df-2166235b-3ba7-4190-b299-b3930b3cf13c\">\n",
              "    <div class=\"colab-df-container\">\n",
              "      <div>\n",
              "<style scoped>\n",
              "    .dataframe tbody tr th:only-of-type {\n",
              "        vertical-align: middle;\n",
              "    }\n",
              "\n",
              "    .dataframe tbody tr th {\n",
              "        vertical-align: top;\n",
              "    }\n",
              "\n",
              "    .dataframe thead th {\n",
              "        text-align: right;\n",
              "    }\n",
              "</style>\n",
              "<table border=\"1\" class=\"dataframe\">\n",
              "  <thead>\n",
              "    <tr style=\"text-align: right;\">\n",
              "      <th></th>\n",
              "      <th>MedInc</th>\n",
              "      <th>HouseAge</th>\n",
              "      <th>AveRooms</th>\n",
              "      <th>AveBedrms</th>\n",
              "      <th>Population</th>\n",
              "      <th>AveOccup</th>\n",
              "      <th>Latitude</th>\n",
              "      <th>Longitude</th>\n",
              "    </tr>\n",
              "  </thead>\n",
              "  <tbody>\n",
              "    <tr>\n",
              "      <th>count</th>\n",
              "      <td>20640.000000</td>\n",
              "      <td>20640.000000</td>\n",
              "      <td>20640.000000</td>\n",
              "      <td>20640.000000</td>\n",
              "      <td>20640.000000</td>\n",
              "      <td>20640.000000</td>\n",
              "      <td>20640.000000</td>\n",
              "      <td>20640.000000</td>\n",
              "    </tr>\n",
              "    <tr>\n",
              "      <th>mean</th>\n",
              "      <td>3.870671</td>\n",
              "      <td>28.639486</td>\n",
              "      <td>5.429000</td>\n",
              "      <td>1.096675</td>\n",
              "      <td>1425.476744</td>\n",
              "      <td>3.070655</td>\n",
              "      <td>35.631861</td>\n",
              "      <td>-119.569704</td>\n",
              "    </tr>\n",
              "    <tr>\n",
              "      <th>std</th>\n",
              "      <td>1.899822</td>\n",
              "      <td>12.585558</td>\n",
              "      <td>2.474173</td>\n",
              "      <td>0.473911</td>\n",
              "      <td>1132.462122</td>\n",
              "      <td>10.386050</td>\n",
              "      <td>2.135952</td>\n",
              "      <td>2.003532</td>\n",
              "    </tr>\n",
              "    <tr>\n",
              "      <th>min</th>\n",
              "      <td>0.499900</td>\n",
              "      <td>1.000000</td>\n",
              "      <td>0.846154</td>\n",
              "      <td>0.333333</td>\n",
              "      <td>3.000000</td>\n",
              "      <td>0.692308</td>\n",
              "      <td>32.540000</td>\n",
              "      <td>-124.350000</td>\n",
              "    </tr>\n",
              "    <tr>\n",
              "      <th>25%</th>\n",
              "      <td>2.563400</td>\n",
              "      <td>18.000000</td>\n",
              "      <td>4.440716</td>\n",
              "      <td>1.006079</td>\n",
              "      <td>787.000000</td>\n",
              "      <td>2.429741</td>\n",
              "      <td>33.930000</td>\n",
              "      <td>-121.800000</td>\n",
              "    </tr>\n",
              "    <tr>\n",
              "      <th>50%</th>\n",
              "      <td>3.534800</td>\n",
              "      <td>29.000000</td>\n",
              "      <td>5.229129</td>\n",
              "      <td>1.048780</td>\n",
              "      <td>1166.000000</td>\n",
              "      <td>2.818116</td>\n",
              "      <td>34.260000</td>\n",
              "      <td>-118.490000</td>\n",
              "    </tr>\n",
              "    <tr>\n",
              "      <th>75%</th>\n",
              "      <td>4.743250</td>\n",
              "      <td>37.000000</td>\n",
              "      <td>6.052381</td>\n",
              "      <td>1.099526</td>\n",
              "      <td>1725.000000</td>\n",
              "      <td>3.282261</td>\n",
              "      <td>37.710000</td>\n",
              "      <td>-118.010000</td>\n",
              "    </tr>\n",
              "    <tr>\n",
              "      <th>max</th>\n",
              "      <td>15.000100</td>\n",
              "      <td>52.000000</td>\n",
              "      <td>141.909091</td>\n",
              "      <td>34.066667</td>\n",
              "      <td>35682.000000</td>\n",
              "      <td>1243.333333</td>\n",
              "      <td>41.950000</td>\n",
              "      <td>-114.310000</td>\n",
              "    </tr>\n",
              "  </tbody>\n",
              "</table>\n",
              "</div>\n",
              "      <button class=\"colab-df-convert\" onclick=\"convertToInteractive('df-2166235b-3ba7-4190-b299-b3930b3cf13c')\"\n",
              "              title=\"Convert this dataframe to an interactive table.\"\n",
              "              style=\"display:none;\">\n",
              "        \n",
              "  <svg xmlns=\"http://www.w3.org/2000/svg\" height=\"24px\"viewBox=\"0 0 24 24\"\n",
              "       width=\"24px\">\n",
              "    <path d=\"M0 0h24v24H0V0z\" fill=\"none\"/>\n",
              "    <path d=\"M18.56 5.44l.94 2.06.94-2.06 2.06-.94-2.06-.94-.94-2.06-.94 2.06-2.06.94zm-11 1L8.5 8.5l.94-2.06 2.06-.94-2.06-.94L8.5 2.5l-.94 2.06-2.06.94zm10 10l.94 2.06.94-2.06 2.06-.94-2.06-.94-.94-2.06-.94 2.06-2.06.94z\"/><path d=\"M17.41 7.96l-1.37-1.37c-.4-.4-.92-.59-1.43-.59-.52 0-1.04.2-1.43.59L10.3 9.45l-7.72 7.72c-.78.78-.78 2.05 0 2.83L4 21.41c.39.39.9.59 1.41.59.51 0 1.02-.2 1.41-.59l7.78-7.78 2.81-2.81c.8-.78.8-2.07 0-2.86zM5.41 20L4 18.59l7.72-7.72 1.47 1.35L5.41 20z\"/>\n",
              "  </svg>\n",
              "      </button>\n",
              "      \n",
              "  <style>\n",
              "    .colab-df-container {\n",
              "      display:flex;\n",
              "      flex-wrap:wrap;\n",
              "      gap: 12px;\n",
              "    }\n",
              "\n",
              "    .colab-df-convert {\n",
              "      background-color: #E8F0FE;\n",
              "      border: none;\n",
              "      border-radius: 50%;\n",
              "      cursor: pointer;\n",
              "      display: none;\n",
              "      fill: #1967D2;\n",
              "      height: 32px;\n",
              "      padding: 0 0 0 0;\n",
              "      width: 32px;\n",
              "    }\n",
              "\n",
              "    .colab-df-convert:hover {\n",
              "      background-color: #E2EBFA;\n",
              "      box-shadow: 0px 1px 2px rgba(60, 64, 67, 0.3), 0px 1px 3px 1px rgba(60, 64, 67, 0.15);\n",
              "      fill: #174EA6;\n",
              "    }\n",
              "\n",
              "    [theme=dark] .colab-df-convert {\n",
              "      background-color: #3B4455;\n",
              "      fill: #D2E3FC;\n",
              "    }\n",
              "\n",
              "    [theme=dark] .colab-df-convert:hover {\n",
              "      background-color: #434B5C;\n",
              "      box-shadow: 0px 1px 3px 1px rgba(0, 0, 0, 0.15);\n",
              "      filter: drop-shadow(0px 1px 2px rgba(0, 0, 0, 0.3));\n",
              "      fill: #FFFFFF;\n",
              "    }\n",
              "  </style>\n",
              "\n",
              "      <script>\n",
              "        const buttonEl =\n",
              "          document.querySelector('#df-2166235b-3ba7-4190-b299-b3930b3cf13c button.colab-df-convert');\n",
              "        buttonEl.style.display =\n",
              "          google.colab.kernel.accessAllowed ? 'block' : 'none';\n",
              "\n",
              "        async function convertToInteractive(key) {\n",
              "          const element = document.querySelector('#df-2166235b-3ba7-4190-b299-b3930b3cf13c');\n",
              "          const dataTable =\n",
              "            await google.colab.kernel.invokeFunction('convertToInteractive',\n",
              "                                                     [key], {});\n",
              "          if (!dataTable) return;\n",
              "\n",
              "          const docLinkHtml = 'Like what you see? Visit the ' +\n",
              "            '<a target=\"_blank\" href=https://colab.research.google.com/notebooks/data_table.ipynb>data table notebook</a>'\n",
              "            + ' to learn more about interactive tables.';\n",
              "          element.innerHTML = '';\n",
              "          dataTable['output_type'] = 'display_data';\n",
              "          await google.colab.output.renderOutput(dataTable, element);\n",
              "          const docLink = document.createElement('div');\n",
              "          docLink.innerHTML = docLinkHtml;\n",
              "          element.appendChild(docLink);\n",
              "        }\n",
              "      </script>\n",
              "    </div>\n",
              "  </div>\n",
              "  "
            ]
          },
          "metadata": {},
          "execution_count": 21
        }
      ],
      "source": [
        "pd.DataFrame(X, columns=feature_names).describe()"
      ]
    },
    {
      "cell_type": "markdown",
      "source": [
        "So, the data is continious and withoun missing values. But it has to be standartised"
      ],
      "metadata": {
        "id": "8jspWU_yRhxu"
      },
      "id": "8jspWU_yRhxu"
    },
    {
      "cell_type": "code",
      "source": [
        "scaler = StandardScaler()\n",
        "X_scaled = scaler.fit_transform(X)\n",
        "\n",
        "X_train, X_test, y_train, y_test = train_test_split(X_scaled, y, random_state=SEED, test_size=0.33)"
      ],
      "metadata": {
        "id": "E5On19OXP7k4"
      },
      "id": "E5On19OXP7k4",
      "execution_count": 22,
      "outputs": []
    },
    {
      "cell_type": "code",
      "source": [
        "lin_reg = LinearRegression()\n",
        "results = lin_reg.fit(X_train, y_train)\n",
        "\n",
        "predict_train = lin_reg.predict(X_train)\n",
        "predict_test = lin_reg.predict(X_test)"
      ],
      "metadata": {
        "id": "RgpUiA9NdZjH"
      },
      "id": "RgpUiA9NdZjH",
      "execution_count": 23,
      "outputs": []
    },
    {
      "cell_type": "code",
      "source": [
        "fig, ax = plt.subplots(1,2, figsize=(10,4))\n",
        "\n",
        "ax[0].scatter(y_test, predict_test, s=2)\n",
        "ax[0].set_xlabel('y_test') ; ax[0].set_ylabel('predict_test')\n",
        "ax[0].plot(range(6), range(6), c='k')\n",
        "ax[0].set_title('Prediction of test set based on train fit')\n",
        "\n",
        "ax[1].scatter(y_train, predict_train, s=2)\n",
        "ax[1].plot(range(6), range(6), c='k')\n",
        "ax[1].set_xlabel('y_train') ; ax[1].set_ylabel('predict_train')\n",
        "ax[1].set_title('Prediction of train set based on train fit')"
      ],
      "metadata": {
        "colab": {
          "base_uri": "https://localhost:8080/",
          "height": 311
        },
        "id": "j7J13Y3VesZG",
        "outputId": "bb8f465e-366c-448a-ec9c-bb9253daf69c"
      },
      "id": "j7J13Y3VesZG",
      "execution_count": 24,
      "outputs": [
        {
          "output_type": "execute_result",
          "data": {
            "text/plain": [
              "Text(0.5, 1.0, 'Prediction of train set based on train fit')"
            ]
          },
          "metadata": {},
          "execution_count": 24
        },
        {
          "output_type": "display_data",
          "data": {
            "text/plain": [
              "<Figure size 720x288 with 2 Axes>"
            ],
            "image/png": "[encoded data removed]"
          },
          "metadata": {
            "needs_background": "light"
          }
        }
      ]
    },
    {
      "cell_type": "code",
      "source": [
        "print(f'''For prediction of y test by the model fitted on y train:\n",
        "mean squared error (MSE): {mse(y_test, predict_test):.4f}\n",
        "R squared: {1 - sum((predict_test - y_test)**2) / sum((y_test - np.mean(y_test))**2):.4f}\n",
        "MAE: {sum(np.abs(predict_test - y_test)) / len(predict_test):.4f}''')"
      ],
      "metadata": {
        "colab": {
          "base_uri": "https://localhost:8080/"
        },
        "id": "nN3wYvLPl6QK",
        "outputId": "5baff2b5-94e8-4746-846d-4b1a30bad833"
      },
      "id": "nN3wYvLPl6QK",
      "execution_count": 25,
      "outputs": [
        {
          "output_type": "stream",
          "name": "stdout",
          "text": [
            "For prediction of y test by the model fitted on y train:\n",
            "mean squared error (MSE): 0.5342\n",
            "R squared: 0.6031\n",
            "MAE: 0.5324\n"
          ]
        }
      ]
    },
    {
      "cell_type": "code",
      "source": [
        "print(f'''For prediction of y train by the model fitted on y train:\n",
        "mean squared error (MSE): {mse(y_train, predict_train):.4f}\n",
        "R squared: {1 - sum((predict_train - y_train)**2) / sum((y_train - np.mean(y_train))**2):.4f}\n",
        "MAE: {sum(np.abs(predict_train - y_train)) / len(predict_train):.4f}''')"
      ],
      "metadata": {
        "colab": {
          "base_uri": "https://localhost:8080/"
        },
        "id": "7_DCuKLTnHr8",
        "outputId": "8020ef58-cdaf-4187-e277-26372d09f954"
      },
      "id": "7_DCuKLTnHr8",
      "execution_count": 26,
      "outputs": [
        {
          "output_type": "stream",
          "name": "stdout",
          "text": [
            "For prediction of y train by the model fitted on y train:\n",
            "mean squared error (MSE): 0.5211\n",
            "R squared: 0.6065\n",
            "MAE: 0.5305\n"
          ]
        }
      ]
    },
    {
      "cell_type": "markdown",
      "source": [
        "The model is not brilliant but good enough"
      ],
      "metadata": {
        "id": "AlsFYxjsfoFH"
      },
      "id": "AlsFYxjsfoFH"
    },
    {
      "cell_type": "code",
      "source": [
        "cl_map = sns.clustermap(pd.DataFrame(X, columns=feature_names).corr(), \n",
        "                        cbar_kws={'label': 'correlation'}, annot=True,\n",
        "                        cmap='viridis')\n",
        "cl_map.fig.suptitle('Correlation between parameters', fontsize=20)"
      ],
      "metadata": {
        "colab": {
          "base_uri": "https://localhost:8080/",
          "height": 745
        },
        "id": "ACcO32O0oajO",
        "outputId": "5bb09883-e9c2-4887-faec-c958e81a66d7"
      },
      "id": "ACcO32O0oajO",
      "execution_count": 27,
      "outputs": [
        {
          "output_type": "execute_result",
          "data": {
            "text/plain": [
              "Text(0.5, 0.98, 'Correlation between parameters')"
            ]
          },
          "metadata": {},
          "execution_count": 27
        },
        {
          "output_type": "display_data",
          "data": {
            "text/plain": [
              "<Figure size 720x720 with 4 Axes>"
            ],
            "image/png": "[encoded data removed]"
          },
          "metadata": {
            "needs_background": "light"
          }
        }
      ]
    },
    {
      "cell_type": "code",
      "source": [
        "coefficients = results.coef_\n",
        "intercept = results.intercept_"
      ],
      "metadata": {
        "id": "Qsljv7HSpqiZ"
      },
      "id": "Qsljv7HSpqiZ",
      "execution_count": 28,
      "outputs": []
    },
    {
      "cell_type": "code",
      "source": [
        "print(\"Coefficients: \", coefficients)\n",
        "print(\"Intercept: \", intercept)\n",
        "\n",
        "\n",
        "sorted_dict = dict(sorted(dict(zip(feature_names, coefficients)).items(), \n",
        "                          key=lambda item: abs(item[1]))[::-1])\n",
        "\n",
        "print('\\nFrom the most impactful parameters to less:')\n",
        "print(*sorted_dict.items(), sep='\\n')"
      ],
      "metadata": {
        "colab": {
          "base_uri": "https://localhost:8080/"
        },
        "id": "nG9vIdC1wSqU",
        "outputId": "9b72b70a-7295-45ea-8487-e64106b0baa2"
      },
      "id": "nG9vIdC1wSqU",
      "execution_count": 29,
      "outputs": [
        {
          "output_type": "stream",
          "name": "stdout",
          "text": [
            "Coefficients:  [ 0.85105891  0.11696045 -0.29968092  0.30326443 -0.01003658 -0.03977304\n",
            " -0.86665132 -0.8377151 ]\n",
            "Intercept:  2.067028206401186\n",
            "\n",
            "From the most impactful parameters to less:\n",
            "('Latitude', -0.8666513171619743)\n",
            "('MedInc', 0.8510589078867603)\n",
            "('Longitude', -0.837715100095734)\n",
            "('AveBedrms', 0.30326442568722517)\n",
            "('AveRooms', -0.29968092335318536)\n",
            "('HouseAge', 0.11696044809303605)\n",
            "('AveOccup', -0.039773039654583286)\n",
            "('Population', -0.010036582384444478)\n"
          ]
        }
      ]
    },
    {
      "cell_type": "markdown",
      "id": "2b3df567-878f-4f94-942e-18c77422281e",
      "metadata": {
        "id": "2b3df567-878f-4f94-942e-18c77422281e"
      },
      "source": [
        "### Задание 3. Реализация логистической регресии (суммарно 10 баллов)"
      ]
    },
    {
      "cell_type": "markdown",
      "id": "98eb7773-98ab-4451-b83d-6c0c4288137a",
      "metadata": {
        "id": "98eb7773-98ab-4451-b83d-6c0c4288137a"
      },
      "source": [
        "Логистическая регрессия не очень сильно отличается от обычной линейной регрессии и используется в задах классификации. Так как здесь мы снова будем пользоваться градиентным спуском, то нужно определить функцию потерь и ее градиент. Одним из самых популярных вариантов в задаче бинарной классификации является бинарная кросс-энтропия (BCE).\n",
        "\n",
        "$$\\mathcal L_{BCE}(y, \\hat y) = -\\sum_i \\left[y_i\\log\\sigma(\\hat y_i) + (1-y_i)\\log(1-\\sigma(\\hat y_i))\\right].$$\n",
        "\n",
        "где $y$ это  таргет желаемого результата и $\\hat y$ является выходом модели. $\\sigma$ - это [*логистическая* функция](https://en.wikipedia.org/wiki/Sigmoid_function), который преобразует действительное число $\\mathbb R$ в вероятность $[0,1]$.\n",
        "\n",
        "Единственная проблема данной функции это возможность получить 0 под знаком логарифма, что не очень хорошо. Попробуем справить с этим \"в лоб\". Скажем, что наши предсказания могут принимать значения от 0 + eps до 1 - eps, где eps очень маленькое число."
      ]
    },
    {
      "cell_type": "markdown",
      "id": "3b6156cf-1749-4a43-b7ea-d469caeb7d01",
      "metadata": {
        "id": "3b6156cf-1749-4a43-b7ea-d469caeb7d01"
      },
      "source": [
        "#### Задание 3.1. Реализация сигмоиды (0.5 баллов)\n",
        "\n",
        "Реализуйте функцию `sigmoid`, которая переводит действительное число $\\mathbb R$ в вероятность $[0,1]$."
      ]
    },
    {
      "cell_type": "code",
      "execution_count": 30,
      "id": "c3632a03-f8e3-43e1-9949-2b8019d4c167",
      "metadata": {
        "id": "c3632a03-f8e3-43e1-9949-2b8019d4c167"
      },
      "outputs": [],
      "source": [
        "def sigmoid(output):\n",
        "    # output результат X@w (-inf, +inf)\n",
        "\n",
        "    return np.exp(output) / (1 + np.exp(output))"
      ]
    },
    {
      "cell_type": "markdown",
      "id": "4e243127-1e87-4b70-9205-b2a1c9709054",
      "metadata": {
        "id": "4e243127-1e87-4b70-9205-b2a1c9709054"
      },
      "source": [
        "#### Задание 3.2. BCE Loss и ее градиент (2.5 балла)"
      ]
    },
    {
      "cell_type": "markdown",
      "id": "de43d40c-4c9a-4120-b8e6-6dfb41e5d261",
      "metadata": {
        "id": "de43d40c-4c9a-4120-b8e6-6dfb41e5d261"
      },
      "source": [
        "Так как мы с вами только начинаем изучать машинное обучение, то было бы слишком жестоко просить вас вычислить градиент BCE Loss (он не так сложен, просто нужно привыкнуть). Поэтому сразу напишем формулу для него:\n",
        "\n",
        "$$\n",
        "\\nabla{\\mathcal L_{BCE}(y, \\hat y), X} = X^T (\\sigma({\\hat{y}}) - y)\n",
        "$$"
      ]
    },
    {
      "cell_type": "code",
      "execution_count": 31,
      "id": "057a5d74-5e8f-4949-a068-8d20c464869e",
      "metadata": {
        "id": "057a5d74-5e8f-4949-a068-8d20c464869e"
      },
      "outputs": [],
      "source": [
        "def bce(y_true, y_pred, eps=1e-15):\n",
        "    \"\"\"\n",
        "    Функция потерь BCE.\n",
        "        :param y_true: np.array[n_samples]: вектор из правильных ответов 0/1\n",
        "        :param y_pred: np.array[n_samples]: вектор из предсказаний модели (вероятности)\n",
        "        :return: значение функции потерь\n",
        "    \"\"\"\n",
        "    \n",
        "    if  y_true.shape[0] != y_pred.shape[0]:\n",
        "        raise ValueError(\"Number of samples in both vectors should be equal\")\n",
        "        \n",
        "    n = y_true.shape[0]\n",
        "    \n",
        "    # So I want escape log(0)\n",
        "    y_pred = np.clip(y_pred, eps, 1 - eps)\n",
        "\n",
        "    part1 = y_true * np.log(sigmoid(y_pred))\n",
        "    part2 = (1 - y_true) * np.log(1 - sigmoid(y_pred))\n",
        "    \n",
        "    return - np.sum(part1 + part2) / n\n",
        "    \n",
        "\n",
        "def bce_grad(y_true, y_pred, X):\n",
        "    \"\"\"\n",
        "    Функция потерь BCE.\n",
        "        :param y_true: np.array[n_samples]: вектор из правильных ответов 0/1\n",
        "        :param y_pred: np.array[n_samples]: вектор из предсказаний модели (вероятности)\n",
        "        :param X: np.array[n_samples, n_features]: матрица объекты x признаки\n",
        "        :return: значение функции потерь\n",
        "    \"\"\"\n",
        "    \n",
        "    if  y_true.shape[0] != y_pred.shape[0]:\n",
        "        raise ValueError(\"Number of samples in both vectors should be equal\")\n",
        "        \n",
        "    return X.T @ (sigmoid(y_pred) - y_true)\n",
        "\n",
        "\n",
        "class BCELoss:\n",
        "    \"\"\"\n",
        "    Класс, реализующий функцию потерь BCE. Нужен для того, чтобы\n",
        "    объединять в одном месте функцию потерь и градиент для нее.\n",
        "    \"\"\"\n",
        "    \n",
        "    def __call__(self, y_true, y_pred):\n",
        "        return bce(y_true, y_pred)\n",
        "    \n",
        "    def calculate_gradient(self, y_true, y_pred, X):\n",
        "        return bce_grad(y_true, y_pred, X)"
      ]
    },
    {
      "cell_type": "markdown",
      "id": "7139689e-729b-40e5-b903-c0d9af8880e0",
      "metadata": {
        "id": "7139689e-729b-40e5-b903-c0d9af8880e0"
      },
      "source": [
        "#### Задание 3.3. Предсказания логистической регрессии (2 балла)\n",
        "\n",
        "Реализуйте метод `predict` у класса `CustomLogisticRegression`, не забудьте про свободный член!"
      ]
    },
    {
      "cell_type": "code",
      "execution_count": 32,
      "id": "28b82913-7674-49e6-8f04-8d0d428be019",
      "metadata": {
        "id": "28b82913-7674-49e6-8f04-8d0d428be019"
      },
      "outputs": [],
      "source": [
        "class CustomLogisticRegression(BaseLinearModel):\n",
        "    def __init__(self, learning_rate: float = 1e-3,\n",
        "                 loss_function=BCELoss(), fit_intercept=True,\n",
        "                 n_iter=1000, tol=1e-5, optimizer=BasicGradientDescent, grad_norm=\"l1\"):\n",
        "        \n",
        "        super().__init__(learning_rate=learning_rate,\n",
        "                         loss_function=loss_function, fit_intercept=fit_intercept,\n",
        "                         n_iter=n_iter, tol=tol, optimizer=optimizer, grad_norm=grad_norm)\n",
        "    \n",
        "    \n",
        "    def predict(self, X_test):\n",
        "        if self.W is None:\n",
        "            raise NotFittedError(\"This CustomLogisticRegression instance is not fitted, run fit method.\")\n",
        "        \n",
        "        n_test_samples = X_test.shape[0]\n",
        "        if self.fit_intercept:\n",
        "            ones_column = np.ones((n_test_samples, 1))\n",
        "            X_test = np.hstack((ones_column, X_test))\n",
        "\n",
        "        return sigmoid(X_test @ self.W)\n",
        "    \n",
        "    \n",
        "    def __repr__(self):\n",
        "        return \"My custom logistic regression\""
      ]
    },
    {
      "cell_type": "markdown",
      "id": "d3ca2d1a-a382-4c1f-bfa3-e23568ff7832",
      "metadata": {
        "id": "d3ca2d1a-a382-4c1f-bfa3-e23568ff7832"
      },
      "source": [
        "#### Снова проверим работу алгоритма на простом примере"
      ]
    },
    {
      "cell_type": "code",
      "execution_count": 33,
      "id": "8f5b577c-032c-4114-b797-9f3d08806e66",
      "metadata": {
        "id": "8f5b577c-032c-4114-b797-9f3d08806e66"
      },
      "outputs": [],
      "source": [
        "# Создадим датасет из 1 признака и 2 классов\n",
        "X, y = make_classification(n_features=1, n_informative=1,\n",
        "                           n_redundant=0, n_clusters_per_class=1)"
      ]
    },
    {
      "cell_type": "code",
      "execution_count": 34,
      "id": "ece8ab2c-8a8d-474f-a820-96e61fba35a4",
      "metadata": {
        "id": "ece8ab2c-8a8d-474f-a820-96e61fba35a4",
        "colab": {
          "base_uri": "https://localhost:8080/",
          "height": 52
        },
        "outputId": "e898b38f-cc88-4002-9fce-595f3d29281e"
      },
      "outputs": [
        {
          "output_type": "display_data",
          "data": {
            "text/plain": [
              "<Figure size 432x288 with 1 Axes>"
            ],
            "image/png": "[encoded data removed]"
          },
          "metadata": {
            "needs_background": "light"
          }
        }
      ],
      "source": [
        "plt.scatter(X, y)\n",
        "plt.title('Raw data for logistic regression');"
      ]
    },
    {
      "cell_type": "code",
      "execution_count": 35,
      "id": "e0dfdb15-835a-471a-b4e1-9f93396d21da",
      "metadata": {
        "id": "e0dfdb15-835a-471a-b4e1-9f93396d21da"
      },
      "outputs": [],
      "source": [
        "custom_log_reg = CustomLogisticRegression()\n",
        "custom_log_reg.fit(X, y)\n",
        "y_pred = custom_log_reg.predict(X)"
      ]
    },
    {
      "cell_type": "code",
      "execution_count": 36,
      "id": "b714d857-68b0-401e-88cd-a722712419f8",
      "metadata": {
        "id": "b714d857-68b0-401e-88cd-a722712419f8",
        "colab": {
          "base_uri": "https://localhost:8080/",
          "height": 52
        },
        "outputId": "4a051ccd-325d-4091-bc84-5cc70bed465b"
      },
      "outputs": [
        {
          "output_type": "display_data",
          "data": {
            "text/plain": [
              "<Figure size 432x288 with 1 Axes>"
            ],
            "image/png": "[encoded data removed]"
          },
          "metadata": {
            "needs_background": "light"
          }
        }
      ],
      "source": [
        "plt.scatter(X, y, label='raw')\n",
        "plt.scatter(X, y_pred, label='predict', alpha=0.3); plt.legend()\n",
        "plt.title('Logistic regression with raw and predicted data');"
      ]
    },
    {
      "cell_type": "markdown",
      "id": "588c4a67-beac-4566-be93-95eb1e985d26",
      "metadata": {
        "id": "588c4a67-beac-4566-be93-95eb1e985d26"
      },
      "source": [
        "Проверьте качество работы модели при помощи известных вам метрик бинарной классификации."
      ]
    },
    {
      "cell_type": "code",
      "source": [
        "def binary_classification_metrics(y_pred, y_true):\n",
        "    \"\"\"\n",
        "    Computes metrics for binary classification\n",
        "    Arguments:\n",
        "    y_pred, np array (num_samples) - model predictions\n",
        "    y_true, np array (num_samples) - true labels\n",
        "    Returns:\n",
        "    precision, recall, f1, accuracy - classification metrics\n",
        "    \"\"\"\n",
        "\n",
        "    # TODO: implement metrics!\n",
        "    # Some helpful links:\n",
        "    # https://en.wikipedia.org/wiki/Precision_and_recall\n",
        "    # https://en.wikipedia.org/wiki/F1_score\n",
        "    y_pred, y_true = y_pred.astype(int), y_true.astype(int)\n",
        "\n",
        "    true_pos = np.sum((y_pred == 1) & (y_true == 1))\n",
        "    false_pos = np.sum((y_pred == 1) & (y_true == 0))\n",
        "    true_neg = np.sum((y_pred == 0) & (y_true == 0))\n",
        "    false_neg = np.sum((y_pred == 0) & (y_true == 1))\n",
        "\n",
        "    accuracy = (true_pos + true_neg) / (true_pos + true_neg + false_pos + false_neg)\n",
        "\n",
        "    try:\n",
        "      recall = true_pos / (true_pos + false_neg)\n",
        "    except ZeroDivisionError:\n",
        "      recall = None\n",
        "    \n",
        "    try:\n",
        "      precision = true_pos / (true_pos + false_pos)\n",
        "    except ZeroDivisionError:\n",
        "      precision = None\n",
        "\n",
        "    try:\n",
        "      f1 = 2 * precision * recall / (precision + recall)\n",
        "    except TypeError:\n",
        "      f1 = None\n",
        "\n",
        "    return precision, recall, f1, accuracy"
      ],
      "metadata": {
        "id": "Tjh5ay_2_Aio"
      },
      "id": "Tjh5ay_2_Aio",
      "execution_count": 37,
      "outputs": []
    },
    {
      "cell_type": "code",
      "source": [
        "y_pred[y_pred < 0.5] = 0\n",
        "y_pred[y_pred >= 0.5] = 1\n",
        "y_pred = np.array([i[0] for i in y_pred])"
      ],
      "metadata": {
        "id": "PSROHGRl_kGn"
      },
      "id": "PSROHGRl_kGn",
      "execution_count": 38,
      "outputs": []
    },
    {
      "cell_type": "code",
      "execution_count": 39,
      "id": "fd4c6acd-2257-4f27-aba2-d9ebd585ae32",
      "metadata": {
        "id": "fd4c6acd-2257-4f27-aba2-d9ebd585ae32",
        "colab": {
          "base_uri": "https://localhost:8080/"
        },
        "outputId": "cf43e188-7283-4e39-f371-5f927561536a"
      },
      "outputs": [
        {
          "output_type": "stream",
          "name": "stdout",
          "text": [
            "Precision: 0.98, recall: 1.00, \n",
            "f1 score: 0.99, accuracy: 0.99\n"
          ]
        }
      ],
      "source": [
        "precision, recall, f1, accuracy = binary_classification_metrics(y_pred, y)\n",
        "print(f'''Precision: {precision:.2f}, recall: {recall:.2f}, \n",
        "f1 score: {f1:.2f}, accuracy: {accuracy:.2f}''')"
      ]
    },
    {
      "cell_type": "markdown",
      "id": "916b7736-caf6-4c5d-920d-1d3d9c7b89ea",
      "metadata": {
        "id": "916b7736-caf6-4c5d-920d-1d3d9c7b89ea"
      },
      "source": [
        "#### Задание 3.4. Применение логистической регрессии (5 баллов)\n",
        "\n",
        "Мы будем использовать данные по свойствам покемонов (https://www.kaggle.com/abcsds/pokemon). В данном задании вам необходимо сначала сделать краткий EDA (Посмотреть на данные и их распределения, а также посмотреть, как различные признаки связаны между собой и с целевой переменной (`Legendary`))."
      ]
    },
    {
      "cell_type": "code",
      "execution_count": 41,
      "id": "d29db297",
      "metadata": {
        "id": "d29db297",
        "colab": {
          "base_uri": "https://localhost:8080/",
          "height": 201
        },
        "outputId": "9415537c-e292-4379-a3d4-10e5c77b2010"
      },
      "outputs": [
        {
          "output_type": "execute_result",
          "data": {
            "text/plain": [
              "   #                   Name Type 1  Type 2  Total  HP  Attack  Defense  \\\n",
              "0  1              Bulbasaur  Grass  Poison    318  45      49       49   \n",
              "1  2                Ivysaur  Grass  Poison    405  60      62       63   \n",
              "2  3               Venusaur  Grass  Poison    525  80      82       83   \n",
              "3  3  VenusaurMega Venusaur  Grass  Poison    625  80     100      123   \n",
              "4  4             Charmander   Fire     NaN    309  39      52       43   \n",
              "\n",
              "   Sp. Atk  Sp. Def  Speed  Generation  Legendary  \n",
              "0       65       65     45           1      False  \n",
              "1       80       80     60           1      False  \n",
              "2      100      100     80           1      False  \n",
              "3      122      120     80           1      False  \n",
              "4       60       50     65           1      False  "
            ],
            "text/html": [
              "\n",
              "  <div id=\"df-a4e632d9-43a9-4ce8-bc0c-7422e8cd8b65\">\n",
              "    <div class=\"colab-df-container\">\n",
              "      <div>\n",
              "<style scoped>\n",
              "    .dataframe tbody tr th:only-of-type {\n",
              "        vertical-align: middle;\n",
              "    }\n",
              "\n",
              "    .dataframe tbody tr th {\n",
              "        vertical-align: top;\n",
              "    }\n",
              "\n",
              "    .dataframe thead th {\n",
              "        text-align: right;\n",
              "    }\n",
              "</style>\n",
              "<table border=\"1\" class=\"dataframe\">\n",
              "  <thead>\n",
              "    <tr style=\"text-align: right;\">\n",
              "      <th></th>\n",
              "      <th>#</th>\n",
              "      <th>Name</th>\n",
              "      <th>Type 1</th>\n",
              "      <th>Type 2</th>\n",
              "      <th>Total</th>\n",
              "      <th>HP</th>\n",
              "      <th>Attack</th>\n",
              "      <th>Defense</th>\n",
              "      <th>Sp. Atk</th>\n",
              "      <th>Sp. Def</th>\n",
              "      <th>Speed</th>\n",
              "      <th>Generation</th>\n",
              "      <th>Legendary</th>\n",
              "    </tr>\n",
              "  </thead>\n",
              "  <tbody>\n",
              "    <tr>\n",
              "      <th>0</th>\n",
              "      <td>1</td>\n",
              "      <td>Bulbasaur</td>\n",
              "      <td>Grass</td>\n",
              "      <td>Poison</td>\n",
              "      <td>318</td>\n",
              "      <td>45</td>\n",
              "      <td>49</td>\n",
              "      <td>49</td>\n",
              "      <td>65</td>\n",
              "      <td>65</td>\n",
              "      <td>45</td>\n",
              "      <td>1</td>\n",
              "      <td>False</td>\n",
              "    </tr>\n",
              "    <tr>\n",
              "      <th>1</th>\n",
              "      <td>2</td>\n",
              "      <td>Ivysaur</td>\n",
              "      <td>Grass</td>\n",
              "      <td>Poison</td>\n",
              "      <td>405</td>\n",
              "      <td>60</td>\n",
              "      <td>62</td>\n",
              "      <td>63</td>\n",
              "      <td>80</td>\n",
              "      <td>80</td>\n",
              "      <td>60</td>\n",
              "      <td>1</td>\n",
              "      <td>False</td>\n",
              "    </tr>\n",
              "    <tr>\n",
              "      <th>2</th>\n",
              "      <td>3</td>\n",
              "      <td>Venusaur</td>\n",
              "      <td>Grass</td>\n",
              "      <td>Poison</td>\n",
              "      <td>525</td>\n",
              "      <td>80</td>\n",
              "      <td>82</td>\n",
              "      <td>83</td>\n",
              "      <td>100</td>\n",
              "      <td>100</td>\n",
              "      <td>80</td>\n",
              "      <td>1</td>\n",
              "      <td>False</td>\n",
              "    </tr>\n",
              "    <tr>\n",
              "      <th>3</th>\n",
              "      <td>3</td>\n",
              "      <td>VenusaurMega Venusaur</td>\n",
              "      <td>Grass</td>\n",
              "      <td>Poison</td>\n",
              "      <td>625</td>\n",
              "      <td>80</td>\n",
              "      <td>100</td>\n",
              "      <td>123</td>\n",
              "      <td>122</td>\n",
              "      <td>120</td>\n",
              "      <td>80</td>\n",
              "      <td>1</td>\n",
              "      <td>False</td>\n",
              "    </tr>\n",
              "    <tr>\n",
              "      <th>4</th>\n",
              "      <td>4</td>\n",
              "      <td>Charmander</td>\n",
              "      <td>Fire</td>\n",
              "      <td>NaN</td>\n",
              "      <td>309</td>\n",
              "      <td>39</td>\n",
              "      <td>52</td>\n",
              "      <td>43</td>\n",
              "      <td>60</td>\n",
              "      <td>50</td>\n",
              "      <td>65</td>\n",
              "      <td>1</td>\n",
              "      <td>False</td>\n",
              "    </tr>\n",
              "  </tbody>\n",
              "</table>\n",
              "</div>\n",
              "      <button class=\"colab-df-convert\" onclick=\"convertToInteractive('df-a4e632d9-43a9-4ce8-bc0c-7422e8cd8b65')\"\n",
              "              title=\"Convert this dataframe to an interactive table.\"\n",
              "              style=\"display:none;\">\n",
              "        \n",
              "  <svg xmlns=\"http://www.w3.org/2000/svg\" height=\"24px\"viewBox=\"0 0 24 24\"\n",
              "       width=\"24px\">\n",
              "    <path d=\"M0 0h24v24H0V0z\" fill=\"none\"/>\n",
              "    <path d=\"M18.56 5.44l.94 2.06.94-2.06 2.06-.94-2.06-.94-.94-2.06-.94 2.06-2.06.94zm-11 1L8.5 8.5l.94-2.06 2.06-.94-2.06-.94L8.5 2.5l-.94 2.06-2.06.94zm10 10l.94 2.06.94-2.06 2.06-.94-2.06-.94-.94-2.06-.94 2.06-2.06.94z\"/><path d=\"M17.41 7.96l-1.37-1.37c-.4-.4-.92-.59-1.43-.59-.52 0-1.04.2-1.43.59L10.3 9.45l-7.72 7.72c-.78.78-.78 2.05 0 2.83L4 21.41c.39.39.9.59 1.41.59.51 0 1.02-.2 1.41-.59l7.78-7.78 2.81-2.81c.8-.78.8-2.07 0-2.86zM5.41 20L4 18.59l7.72-7.72 1.47 1.35L5.41 20z\"/>\n",
              "  </svg>\n",
              "      </button>\n",
              "      \n",
              "  <style>\n",
              "    .colab-df-container {\n",
              "      display:flex;\n",
              "      flex-wrap:wrap;\n",
              "      gap: 12px;\n",
              "    }\n",
              "\n",
              "    .colab-df-convert {\n",
              "      background-color: #E8F0FE;\n",
              "      border: none;\n",
              "      border-radius: 50%;\n",
              "      cursor: pointer;\n",
              "      display: none;\n",
              "      fill: #1967D2;\n",
              "      height: 32px;\n",
              "      padding: 0 0 0 0;\n",
              "      width: 32px;\n",
              "    }\n",
              "\n",
              "    .colab-df-convert:hover {\n",
              "      background-color: #E2EBFA;\n",
              "      box-shadow: 0px 1px 2px rgba(60, 64, 67, 0.3), 0px 1px 3px 1px rgba(60, 64, 67, 0.15);\n",
              "      fill: #174EA6;\n",
              "    }\n",
              "\n",
              "    [theme=dark] .colab-df-convert {\n",
              "      background-color: #3B4455;\n",
              "      fill: #D2E3FC;\n",
              "    }\n",
              "\n",
              "    [theme=dark] .colab-df-convert:hover {\n",
              "      background-color: #434B5C;\n",
              "      box-shadow: 0px 1px 3px 1px rgba(0, 0, 0, 0.15);\n",
              "      filter: drop-shadow(0px 1px 2px rgba(0, 0, 0, 0.3));\n",
              "      fill: #FFFFFF;\n",
              "    }\n",
              "  </style>\n",
              "\n",
              "      <script>\n",
              "        const buttonEl =\n",
              "          document.querySelector('#df-a4e632d9-43a9-4ce8-bc0c-7422e8cd8b65 button.colab-df-convert');\n",
              "        buttonEl.style.display =\n",
              "          google.colab.kernel.accessAllowed ? 'block' : 'none';\n",
              "\n",
              "        async function convertToInteractive(key) {\n",
              "          const element = document.querySelector('#df-a4e632d9-43a9-4ce8-bc0c-7422e8cd8b65');\n",
              "          const dataTable =\n",
              "            await google.colab.kernel.invokeFunction('convertToInteractive',\n",
              "                                                     [key], {});\n",
              "          if (!dataTable) return;\n",
              "\n",
              "          const docLinkHtml = 'Like what you see? Visit the ' +\n",
              "            '<a target=\"_blank\" href=https://colab.research.google.com/notebooks/data_table.ipynb>data table notebook</a>'\n",
              "            + ' to learn more about interactive tables.';\n",
              "          element.innerHTML = '';\n",
              "          dataTable['output_type'] = 'display_data';\n",
              "          await google.colab.output.renderOutput(dataTable, element);\n",
              "          const docLink = document.createElement('div');\n",
              "          docLink.innerHTML = docLinkHtml;\n",
              "          element.appendChild(docLink);\n",
              "        }\n",
              "      </script>\n",
              "    </div>\n",
              "  </div>\n",
              "  "
            ]
          },
          "metadata": {},
          "execution_count": 41
        }
      ],
      "source": [
        "pokemon = pd.read_csv(\"Pokemon.csv\")\n",
        "pokemon.head()"
      ]
    },
    {
      "cell_type": "markdown",
      "id": "33d89ccc",
      "metadata": {
        "id": "33d89ccc"
      },
      "source": [
        "Мы будем предсказывать является ли покемон легендарным или нет. Замените логическое значение колонки на числовое (перекодировав на 0 и 1). Также подумайте, как в этом случае лучше закодировать категориальные признаки (может быть, лучше их просто выбросить?)."
      ]
    },
    {
      "cell_type": "code",
      "source": [
        "# amount of NaNs per column\n",
        "for col_name in pokemon.columns:\n",
        "  print(col_name, pokemon[col_name].isna().sum()) "
      ],
      "metadata": {
        "colab": {
          "base_uri": "https://localhost:8080/"
        },
        "id": "vqo9ZlN4IyZs",
        "outputId": "1e5fa511-0a51-491d-fcf0-1082d0d673e1"
      },
      "id": "vqo9ZlN4IyZs",
      "execution_count": 42,
      "outputs": [
        {
          "output_type": "stream",
          "name": "stdout",
          "text": [
            "# 0\n",
            "Name 0\n",
            "Type 1 0\n",
            "Type 2 386\n",
            "Total 0\n",
            "HP 0\n",
            "Attack 0\n",
            "Defense 0\n",
            "Sp. Atk 0\n",
            "Sp. Def 0\n",
            "Speed 0\n",
            "Generation 0\n",
            "Legendary 0\n"
          ]
        }
      ]
    },
    {
      "cell_type": "code",
      "execution_count": 43,
      "id": "0db7a2c5",
      "metadata": {
        "id": "0db7a2c5",
        "colab": {
          "base_uri": "https://localhost:8080/"
        },
        "outputId": "b7f561dd-13bf-4dd8-d8f4-fcb512793702"
      },
      "outputs": [
        {
          "output_type": "stream",
          "name": "stdout",
          "text": [
            "The proportion of NaN for type 2:  0.4825\n"
          ]
        }
      ],
      "source": [
        "print('The proportion of NaN for type 2: ', \n",
        "      pokemon['Type 2'].isna().sum() / len(pokemon))"
      ]
    },
    {
      "cell_type": "markdown",
      "source": [
        "Because almost half of Type 2 markers are NaNs, this parameter should be definetely skipped"
      ],
      "metadata": {
        "id": "JFHrKTtzIMP4"
      },
      "id": "JFHrKTtzIMP4"
    },
    {
      "cell_type": "code",
      "source": [
        "pokemon['Type 1'].unique()"
      ],
      "metadata": {
        "colab": {
          "base_uri": "https://localhost:8080/"
        },
        "id": "m6svzU0WCRL7",
        "outputId": "fe944691-1069-4ed7-e605-a7f1586d0b2b"
      },
      "id": "m6svzU0WCRL7",
      "execution_count": 44,
      "outputs": [
        {
          "output_type": "execute_result",
          "data": {
            "text/plain": [
              "array(['Grass', 'Fire', 'Water', 'Bug', 'Normal', 'Poison', 'Electric',\n",
              "       'Ground', 'Fairy', 'Fighting', 'Psychic', 'Rock', 'Ghost', 'Ice',\n",
              "       'Dragon', 'Dark', 'Steel', 'Flying'], dtype=object)"
            ]
          },
          "metadata": {},
          "execution_count": 44
        }
      ]
    },
    {
      "cell_type": "markdown",
      "source": [
        "I am already tired and there is too many of Type 1 to do get_dummy. Considering that our set is tiny (800 entries), this could only blur our prediction. So, I delete them too"
      ],
      "metadata": {
        "id": "nWIoN1SBIhpq"
      },
      "id": "nWIoN1SBIhpq"
    },
    {
      "cell_type": "code",
      "source": [
        "# check if all names are unique\n",
        "len(pokemon['Name'].unique()) == len(pokemon)"
      ],
      "metadata": {
        "colab": {
          "base_uri": "https://localhost:8080/"
        },
        "id": "fSMGfgU-CYcP",
        "outputId": "57db023c-8d8c-4351-ecd4-de94e466c27e"
      },
      "id": "fSMGfgU-CYcP",
      "execution_count": 45,
      "outputs": [
        {
          "output_type": "execute_result",
          "data": {
            "text/plain": [
              "True"
            ]
          },
          "metadata": {},
          "execution_count": 45
        }
      ]
    },
    {
      "cell_type": "code",
      "source": [
        "X = pokemon.loc[:, pokemon.columns[4:-1]].to_numpy()\n",
        "y = np.array(pokemon.Legendary.apply(int))\n",
        "feature_names = pokemon.columns[4:-1]"
      ],
      "metadata": {
        "id": "Pv_915FaJpCt"
      },
      "id": "Pv_915FaJpCt",
      "execution_count": 46,
      "outputs": []
    },
    {
      "cell_type": "markdown",
      "id": "12e09fa0",
      "metadata": {
        "id": "12e09fa0"
      },
      "source": [
        "Разделите ваши данные на тестовую и тренировочную выборку."
      ]
    },
    {
      "cell_type": "code",
      "execution_count": 47,
      "id": "e68671bd-8082-4ac7-a159-13e8e8563049",
      "metadata": {
        "id": "e68671bd-8082-4ac7-a159-13e8e8563049"
      },
      "outputs": [],
      "source": [
        "scaler = StandardScaler()\n",
        "X_scaled = scaler.fit_transform(X)\n",
        "\n",
        "X_train, X_test, y_train, y_test = train_test_split(X_scaled, y, random_state=SEED, test_size=0.33)"
      ]
    },
    {
      "cell_type": "markdown",
      "id": "321d3f38",
      "metadata": {
        "id": "321d3f38"
      },
      "source": [
        "Обучите модель `LogisticRegression` из `sklearn`."
      ]
    },
    {
      "cell_type": "code",
      "execution_count": 48,
      "id": "c432c38a-7ebf-4b3c-bb87-60d49a0d5787",
      "metadata": {
        "id": "c432c38a-7ebf-4b3c-bb87-60d49a0d5787"
      },
      "outputs": [],
      "source": [
        "log_reg = LogisticRegression()\n",
        "results = log_reg.fit(X_train, y_train)\n",
        "\n",
        "predict_train = log_reg.predict(X_train)\n",
        "predict_test = log_reg.predict(X_test)"
      ]
    },
    {
      "cell_type": "markdown",
      "id": "75dc12fe",
      "metadata": {
        "id": "75dc12fe"
      },
      "source": [
        "Выведите метрики вашего классификатора:\n",
        "\n",
        "1. Нарисуйте [confusion matrix](https://scikit-learn.org/stable/modules/generated/sklearn.metrics.plot_confusion_matrix.html).\n",
        "\n",
        "2. Изобразите ROC кривую и посчитайте площадь под ней.\n",
        "\n",
        "3. Скажите, какие признаки оказались наиболее важны для модели."
      ]
    },
    {
      "cell_type": "code",
      "execution_count": 49,
      "id": "63f58f5a-3b46-4562-b4bb-6d09c9a5fb3b",
      "metadata": {
        "id": "63f58f5a-3b46-4562-b4bb-6d09c9a5fb3b",
        "colab": {
          "base_uri": "https://localhost:8080/",
          "height": 294
        },
        "outputId": "c792e9bc-3f4d-473b-a968-9d75cd5dfb48"
      },
      "outputs": [
        {
          "output_type": "display_data",
          "data": {
            "text/plain": [
              "<Figure size 432x288 with 2 Axes>"
            ],
            "image/png": "[encoded data removed]"
          },
          "metadata": {
            "needs_background": "light"
          }
        }
      ],
      "source": [
        "from sklearn.metrics import ConfusionMatrixDisplay\n",
        "\n",
        "ConfusionMatrixDisplay.from_estimator(results, X_test, y_test, normalize='true',\n",
        "                                      display_labels=['Pathetic', 'Legendary'])\n",
        "plt.title('Confusion matrix for test prediction');"
      ]
    },
    {
      "cell_type": "code",
      "source": [
        "from sklearn.metrics import ConfusionMatrixDisplay\n",
        "\n",
        "ConfusionMatrixDisplay.from_estimator(results, X_train, y_train, normalize='true', \n",
        "                                      display_labels=['Pathetic', 'Legendary'])\n",
        "plt.title('Confusion matrix for train prediction');"
      ],
      "metadata": {
        "colab": {
          "base_uri": "https://localhost:8080/",
          "height": 294
        },
        "id": "F1CJ-07WRZP3",
        "outputId": "6e0bb1ed-63ae-4f9b-a3c9-1ef036391794"
      },
      "id": "F1CJ-07WRZP3",
      "execution_count": 50,
      "outputs": [
        {
          "output_type": "display_data",
          "data": {
            "text/plain": [
              "<Figure size 432x288 with 2 Axes>"
            ],
            "image/png": "[encoded data removed]"
          },
          "metadata": {
            "needs_background": "light"
          }
        }
      ]
    },
    {
      "cell_type": "code",
      "source": [
        "from sklearn.metrics import roc_curve\n",
        "\n",
        "fig, ax = plt.subplots(1,2, figsize=(10,3))\n",
        "\n",
        "for i in range(2):\n",
        "  ax[i].plot([0, 1], [0, 1], 'k--', label='chance level\\n(AUC = 0.5)')\n",
        "  ax[i].set_xlabel('false positive'); ax[i].set_ylabel('true positive')\n",
        "\n",
        "fpr, tpr, thresholds = roc_curve(y_test, predict_test)\n",
        "ax[0].plot(fpr, tpr, label='ROC curve')\n",
        "ax[0].set_title('test'); ax[0].legend(loc=4)\n",
        "\n",
        "fpr, tpr, thresholds = roc_curve(y_train, predict_train)\n",
        "ax[1].plot(fpr, tpr, label='ROC curve')\n",
        "ax[1].set_title('train'); ax[1].legend(loc=4)\n",
        "\n",
        "plt.suptitle('Pathetic-vs-Legendary Receiver Operating Characteristic', y=1.04)"
      ],
      "metadata": {
        "colab": {
          "base_uri": "https://localhost:8080/",
          "height": 276
        },
        "id": "921tXFxHQyUW",
        "outputId": "6232344f-bd2c-43bd-b417-3702219bf6e5"
      },
      "id": "921tXFxHQyUW",
      "execution_count": 51,
      "outputs": [
        {
          "output_type": "execute_result",
          "data": {
            "text/plain": [
              "Text(0.5, 1.04, 'Pathetic-vs-Legendary Receiver Operating Characteristic')"
            ]
          },
          "metadata": {},
          "execution_count": 51
        },
        {
          "output_type": "display_data",
          "data": {
            "text/plain": [
              "<Figure size 720x216 with 2 Axes>"
            ],
            "image/png": "[encoded data removed]"
          },
          "metadata": {
            "needs_background": "light"
          }
        }
      ]
    },
    {
      "cell_type": "code",
      "source": [
        "coefficients = results.coef_\n",
        "intercept = results.intercept_"
      ],
      "metadata": {
        "id": "RTzM9VR2cWQl"
      },
      "id": "RTzM9VR2cWQl",
      "execution_count": 52,
      "outputs": []
    },
    {
      "cell_type": "code",
      "source": [
        "print(\"Coefficients: \", coefficients)\n",
        "print(\"Intercept: \", intercept)\n",
        "\n",
        "\n",
        "sorted_dict = dict(sorted(dict(zip(feature_names, coefficients[0])).items(), \n",
        "                          key=lambda item: abs(item[1]))[::-1])\n",
        "\n",
        "print('\\nFrom the most impactful parameters to less:')\n",
        "print(*sorted_dict.items(), sep='\\n')"
      ],
      "metadata": {
        "colab": {
          "base_uri": "https://localhost:8080/"
        },
        "id": "c58pl4Wfcajy",
        "outputId": "666abd0a-aec6-4b3a-ae8e-b51a82eb3a0b"
      },
      "id": "c58pl4Wfcajy",
      "execution_count": 53,
      "outputs": [
        {
          "output_type": "stream",
          "name": "stdout",
          "text": [
            "Coefficients:  [[1.10667518 0.15746924 0.67303457 0.27771115 0.87641155 1.35146186\n",
            "  1.09930567 0.91588342]]\n",
            "Intercept:  [-6.97245266]\n",
            "\n",
            "From the most impactful parameters to less:\n",
            "('Sp. Def', 1.3514618586383311)\n",
            "('Total', 1.1066751765275737)\n",
            "('Speed', 1.0993056741456386)\n",
            "('Generation', 0.915883423517303)\n",
            "('Sp. Atk', 0.8764115473547656)\n",
            "('Attack', 0.6730345697034478)\n",
            "('Defense', 0.27771114767750726)\n",
            "('HP', 0.15746923562381918)\n"
          ]
        }
      ]
    },
    {
      "cell_type": "markdown",
      "id": "96c048e4-6624-4a94-af92-650d109ac581",
      "metadata": {
        "id": "96c048e4-6624-4a94-af92-650d109ac581"
      },
      "source": [
        "### Задание 4. Расскажите о вашей любимой музыкальной группе (исполнителе) (0.5 балла)\n",
        "\n",
        "Расскажите, как вы познакомились с этой группой и скиньте несколько наиболее любимых треков)"
      ]
    },
    {
      "cell_type": "markdown",
      "source": [
        "банально, но перед выходом сериала переслушиваю всего киша"
      ],
      "metadata": {
        "id": "AVWj8GcLdHWc"
      },
      "id": "AVWj8GcLdHWc"
    },
    {
      "cell_type": "markdown",
      "id": "8441428d-5ff4-46e0-927f-47ee935b224d",
      "metadata": {
        "id": "8441428d-5ff4-46e0-927f-47ee935b224d"
      },
      "source": [
        "## Therapy time\n",
        "\n",
        "Напишите здесь ваши впечатления о задании: было ли интересно, было ли слишком легко или наоборот сложно и тд. Также сюда можно написать свои идеи по улучшению заданий, а также предложить данные, на основе которых вы бы хотели построить следующие дз. "
      ]
    },
    {
      "cell_type": "markdown",
      "id": "15a2c8ee-96ac-4967-a9d5-55563826ee1d",
      "metadata": {
        "id": "15a2c8ee-96ac-4967-a9d5-55563826ee1d"
      },
      "source": [
        "**Ваши мысли:**"
      ]
    },
    {
      "cell_type": "markdown",
      "source": [
        "0) numpy is imported twice\n",
        "\n",
        "1) хотелось бы почаще ассёрты и/или другие методы проверки, что написанный код написан правильно. Желательно после каждого нового куска кода\n",
        "\n",
        "2) в формуле для BCE написано $log$, мб логичней заменить на $ln$, чтобы было понятно что это натуральный, а не десятичный логарифм\n",
        "\n",
        "3) ошибка в формуле BCE, не хватает / n\n",
        "\n",
        "4) битая ссылка на confusion matrix https://scikit-learn.org/stable/auto_examples/model_selection/plot_confusion_matrix.html"
      ],
      "metadata": {
        "id": "U6NBwKehlQQI"
      },
      "id": "U6NBwKehlQQI"
    }
  ],
  "metadata": {
    "kernelspec": {
      "display_name": "Python 3",
      "language": "python",
      "name": "python3"
    },
    "language_info": {
      "codemirror_mode": {
        "name": "ipython",
        "version": 3
      },
      "file_extension": ".py",
      "mimetype": "text/x-python",
      "name": "python",
      "nbconvert_exporter": "python",
      "pygments_lexer": "ipython3",
      "version": "3.8.8"
    },
    "colab": {
      "provenance": []
    }
  },
  "nbformat": 4,
  "nbformat_minor": 5
}