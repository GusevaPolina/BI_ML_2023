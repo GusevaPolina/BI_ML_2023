{
  "nbformat": 4,
  "nbformat_minor": 0,
  "metadata": {
    "colab": {
      "provenance": []
    },
    "kernelspec": {
      "name": "python3",
      "display_name": "Python 3"
    },
    "language_info": {
      "name": "python"
    }
  },
  "cells": [
    {
      "cell_type": "markdown",
      "metadata": {
        "id": "view-in-github"
      },
      "source": [
        "<a href=\"https://colab.research.google.com/github/danon6868/BI-ml-course/blob/main/lecture_8_neural_networks_part2/homework/FC_NN_practice.ipynb\" target=\"_parent\"><img src=\"https://colab.research.google.com/assets/colab-badge.svg\" alt=\"Open In Colab\"/></a>"
      ]
    },
    {
      "cell_type": "markdown",
      "source": [
        "Всем привет! Сегодня вы впервые попробуете написать свою собственную нейронную сеть и попробовать ее обучить. Мы будем работать с картинками, но пока что не совсем тем способом, которым лучше всего это делать, но должно получиться неплохо.\n",
        "\n",
        "Будем работать с [датасетом](https://github.com/rois-codh/kmnist) `Kuzushiji-MNIST` (`KMNIST`). Это рукописные буквы, изображения имеют размер (28, 28, 1) и разделены на 10 классов, по ссылке можно прочитать подробнее."
      ],
      "metadata": {
        "id": "-pSGPQS8Btmc"
      }
    },
    {
      "cell_type": "code",
      "source": [
        "import numpy as np\n",
        "import torch\n",
        "import matplotlib.pyplot as plt\n",
        "from IPython.display import clear_output"
      ],
      "metadata": {
        "id": "75HVAP_RFU7r"
      },
      "execution_count": null,
      "outputs": []
    },
    {
      "cell_type": "markdown",
      "source": [
        "## Загрузка данных"
      ],
      "metadata": {
        "id": "46iQ8ixtEruP"
      }
    },
    {
      "cell_type": "markdown",
      "source": [
        "Сейчас мы будем использовать встроенные данные, но в реальности приходится писать свой класс для датасета (Dataset), у которого реализовывать несколько обязательных методов (напр, `__getitem__`), но это обсудим уже потом."
      ],
      "metadata": {
        "id": "R6h1jVreJlV-"
      }
    },
    {
      "cell_type": "code",
      "execution_count": null,
      "metadata": {
        "id": "s9L9Z02o_1bK"
      },
      "outputs": [],
      "source": [
        "import torchvision\n",
        "from torchvision.datasets import KMNIST\n",
        "\n",
        "\n",
        "# Превращает картинки в тензоры\n",
        "transform = torchvision.transforms.Compose(\n",
        "    [torchvision.transforms.ToTensor()])\n",
        "\n",
        "# Загрузим данные (в переменных лежат объекты типа `Dataset`)\n",
        "# В аргумент `transform` мы передаем необходимые трансформации (ToTensor)\n",
        "trainset = KMNIST(root=\"./KMNIST\", train=True, download=True, transform=transform)\n",
        "testset = KMNIST(root=\"./KMNIST\", train=False, download=True, transform=transform)\n",
        "\n",
        "clear_output()"
      ]
    },
    {
      "cell_type": "markdown",
      "source": [
        "Определим даталоадеры, они нужны, чтобы реализовывать стохастический градиентный спуск (то есть мы не хотим считывать в оперативную память все картинки сразу, а делать это батчами)."
      ],
      "metadata": {
        "id": "V83E2vDrO9CC"
      }
    },
    {
      "cell_type": "code",
      "source": [
        "from torch.utils.data import DataLoader\n",
        "\n",
        "\n",
        "# Можно оставить таким\n",
        "batch_size = 256\n",
        "\n",
        "trainloader = DataLoader(trainset, batch_size=batch_size, shuffle=True, num_workers=2)\n",
        "testloader = DataLoader(testset, batch_size=batch_size, shuffle=False, num_workers=2)"
      ],
      "metadata": {
        "id": "oqC8XO8pO8Px"
      },
      "execution_count": null,
      "outputs": []
    },
    {
      "cell_type": "markdown",
      "source": [
        "Подумайте, как может влиять на скорость обучения параметр `batch_size`, почему вы так считаете?\n",
        "\n",
        "**Ответ:**"
      ],
      "metadata": {
        "id": "-Ntp5sLoPyGx"
      }
    },
    {
      "cell_type": "markdown",
      "source": [
        "Посмотрим на какую-нибудь картинку:"
      ],
      "metadata": {
        "id": "t2vmM4KaHvrs"
      }
    },
    {
      "cell_type": "code",
      "source": [
        "plt.imshow(trainset[0][0].view(28, 28).numpy(), cmap=\"gray\")\n",
        "plt.axis(\"off\")\n",
        "plt.title(f\"Class is {trainset[0][1]}\", fontsize=16);"
      ],
      "metadata": {
        "colab": {
          "base_uri": "https://localhost:8080/",
          "height": 429
        },
        "id": "N-b-kFCYAoOP",
        "outputId": "621d9f51-da0f-49e1-c848-0a7695d41081"
      },
      "execution_count": null,
      "outputs": [
        {
          "output_type": "display_data",
          "data": {
            "text/plain": [
              "<Figure size 640x480 with 1 Axes>"
            ],
            "image/png": "[encoded data removed]"
          },
          "metadata": {}
        }
      ]
    },
    {
      "cell_type": "markdown",
      "source": [
        "### Задание 1. Смотрим на картинки\n",
        "\n",
        "**2** балла\n",
        "\n",
        "Нарисуйте на одном графике изображения всех 10 классов:"
      ],
      "metadata": {
        "id": "8_MSY231Hzz9"
      }
    },
    {
      "cell_type": "markdown",
      "source": [
        "⣿⣿⣿⣿⣿⣿⠿⢋⣥⣴⣶⣶⣶⣬⣙⠻⠟⣋⣭⣭⣭⣭⡙⠻⣿⣿⣿⣿⣿\n",
        "⣿⣿⣿⣿⡿⢋⣴⣿⣿⠿⢟⣛⣛⣛⠿⢷⡹⣿⣿⣿⣿⣿⣿⣆⠹⣿⣿⣿⣿\n",
        "⣿⣿⣿⡿⢁⣾⣿⣿⣴⣿⣿⣿⣿⠿⠿⠷⠥⠱⣶⣶⣶⣶⡶⠮⠤⣌⡙⢿⣿\n",
        "⣿⡿⢛⡁⣾⣿⣿⣿⡿⢟⡫⢕⣪⡭⠥⢭⣭⣉⡂⣉⡒⣤⡭⡉⠩⣥⣰⠂⠹\n",
        "⡟⢠⣿⣱⣿⣿⣿⣏⣛⢲⣾⣿⠃⠄⠐⠈⣿⣿⣿⣿⣿⣿⠄⠁⠃⢸⣿⣿⡧\n",
        "⢠⣿⣿⣿⣿⣿⣿⣿⣿⣇⣊⠙⠳⠤⠤⠾⣟⠛⠍⣹⣛⣛⣢⣀⣠⣛⡯⢉⣰\n",
        "⣿⣿⣿⣿⣿⣿⣿⣿⣿⣿⣿⣿⣷⡶⠶⢒⣠⣼⣿⣿⣛⠻⠛⢛⣛⠉⣴⣿⣿\n",
        "⣿⣿⣿⣿⣿⣿⣿⡿⢛⡛⢿⣿⣿⣶⣿⣿⣿⣿⣿⣿⣿⣿⣿⣿⣿⣷⡈⢿⣿\n",
        "⣿⣿⣿⣿⣿⣿⣿⠸⣿⡻⢷⣍⣛⠻⠿⠿⣿⣿⣿⣿⣿⣿⣿⣿⣿⠿⢇⡘⣿\n",
        "⣿⣿⣿⣿⣿⣿⣿⣷⣝⠻⠶⣬⣍⣛⣛⠓⠶⠶⠶⠤⠬⠭⠤⠶⠶⠞⠛⣡⣿\n",
        "⢿⣿⣿⣿⣿⣿⣿⣿⣿⣿⣷⣶⣬⣭⣍⣙⣛⣛⣛⠛⠛⠛⠿⠿⠿⠛⣠⣿⣿\n",
        "⣦⣈⠉⢛⠻⠿⠿⢿⣿⣿⣿⣿⣿⣿⣿⣿⣿⣿⣿⡿⠿⠛⣁⣴⣾⣿⣿⣿⣿\n",
        "⣿⣿⣿⣶⣮⣭⣁⣒⣒⣒⠂⠠⠬⠭⠭⠭⢀⣀⣠⣄⡘⠿⣿⣿⣿⣿⣿⣿⣿\n",
        "⣿⣿⣿⣿⣿⣿⣿⣿⣿⣿⣿⣿⣿⣿⣿⣿⣿⣿⣿⣿⣿⣦⡈⢿⣿⣿⣿⣿⣿\n",
        "\n",
        "\n",
        "\n"
      ],
      "metadata": {
        "id": "j0tNdHM5JS6l"
      }
    },
    {
      "cell_type": "code",
      "source": [
        "list(set(trainset.targets.numpy()))"
      ],
      "metadata": {
        "colab": {
          "base_uri": "https://localhost:8080/"
        },
        "id": "WsUE3iJpEwlf",
        "outputId": "cf12a944-fbeb-476f-bdde-1c09839d3b97"
      },
      "execution_count": null,
      "outputs": [
        {
          "output_type": "execute_result",
          "data": {
            "text/plain": [
              "[0, 1, 2, 3, 4, 5, 6, 7, 8, 9]"
            ]
          },
          "metadata": {},
          "execution_count": 5
        }
      ]
    },
    {
      "cell_type": "code",
      "source": [
        "fig, ax = plt.subplots(2,5, figsize=(12,5))\n",
        "\n",
        "for i in list(set(trainset.targets.numpy())):\n",
        "  j = 0\n",
        "  while trainset[j][1] != i:\n",
        "    j += 1\n",
        "\n",
        "  ax[i//5, i%5].imshow(trainset[j][0].view(28, 28).numpy(), cmap=\"gray\")\n",
        "  ax[i//5, i%5].axis(\"off\")\n",
        "  ax[i//5, i%5].set_title(f\"Class is {trainset[j][1]}\");"
      ],
      "metadata": {
        "colab": {
          "base_uri": "https://localhost:8080/",
          "height": 428
        },
        "id": "Y_kK7Cau_JdV",
        "outputId": "e6076e98-043d-4545-b633-31f9eda67067"
      },
      "execution_count": null,
      "outputs": [
        {
          "output_type": "display_data",
          "data": {
            "text/plain": [
              "<Figure size 1200x500 with 10 Axes>"
            ],
            "image/png": "[encoded data removed]"
          },
          "metadata": {}
        }
      ]
    },
    {
      "cell_type": "markdown",
      "source": [
        "### Задание 2. Строим свой первый MLP\n",
        "\n",
        "**4** балла\n",
        "\n",
        "MLP (multilayer perceptron) или нейронная сеть из полносвязных (линейных) слоев, это мы уже знаем.\n",
        "\n",
        "Опишите структуру сети: 3 полносвязных слоя + функции активации на ваш выбор. **Подумайте** про активацию после последнего слоя!\n",
        "\n",
        "Сеть на выходе 1 слоя должна иметь 256 признаков, на выходе из 2 128 признаков, на выходе из последнего столько, сколько у вас классов.\n",
        " \n",
        "https://pytorch.org/docs/stable/nn.html?highlight=activation#non-linear-activations-weighted-sum-nonlinearity"
      ],
      "metadata": {
        "id": "dLCfnFW-JtGx"
      }
    },
    {
      "cell_type": "code",
      "source": [
        "import torch.nn as nn\n",
        "import torch.nn.functional as F\n",
        "\n",
        "class FCNet(nn.Module):\n",
        "    def __init__(self):\n",
        "        # Тут можно сделать многое: передавать число слоев, входных признаков и тд\n",
        "        # но пока что ограничимся чем-то простым\n",
        "\n",
        "        super().__init__() # Не нужно забывать про это, иначе ничего не сработает\n",
        "\n",
        "        # Опрелелим два слоя\n",
        "        # fc - fully connected (по сути значит линейные слои)\n",
        "\n",
        "        # in_features число входов у каждого нейрона, out_features число нейронов\n",
        "        self.fc1 = nn.Linear(in_features=28*28, out_features=256)\n",
        "        # in_features число входов у каждого нейрона, out_features число нейронов\n",
        "        self.fc2 = nn.Linear(in_features=256, out_features=2128)\n",
        "        # in_features число нейронов пред слоя, out_features число классов (10)\n",
        "        self.fc3 = nn.Linear(in_features=2128, out_features=10)\n",
        "        \n",
        "\n",
        "    def forward(self, x):  # Forward вызывается внутри метода __call__ родительского класса\n",
        "        ## x -> тензор размерности (BATCH_SIZE, N_CHANNELS, WIDTH, HEIGHT)\n",
        "        ## надо подумать над тем, что у нас полносвязные слои принимают векторы\n",
        "\n",
        "        x = x.view(-1, 28*28) # переведем картинку в вектор\n",
        "        x = self.fc1(x)\n",
        "        x = F.relu(x)\n",
        "        x = self.fc2(x)\n",
        "        x = F.relu(x)\n",
        "        x = self.fc3(x)\n",
        "\n",
        "        return x # logits"
      ],
      "metadata": {
        "id": "dhYBvQIXJdSz"
      },
      "execution_count": null,
      "outputs": []
    },
    {
      "cell_type": "markdown",
      "source": [
        "Сколько обучаемых параметров у вашей модели (весов и смещений)?\n",
        "\n",
        "**Ответ:**"
      ],
      "metadata": {
        "id": "uI0R77EQNKef"
      }
    },
    {
      "cell_type": "markdown",
      "source": [
        "Количество обучаемых параметров в FCNet можно вычислить как сумму параметров в каждом из линейных слоев. Каждый линейный слой имеет матрицу весов размера (output_features, input_features) и вектор смещений размера (output_features), поэтому общее количество обучаемых параметров можно вычислить следующим образом:\n",
        "\n",
        "\n",
        "```\n",
        "params = (input_features * output_features) + output_features\n",
        "```\n",
        "\n"
      ],
      "metadata": {
        "id": "OHcN2rQb88H2"
      }
    },
    {
      "cell_type": "code",
      "source": [
        "# for FCNet\n",
        "fc1_params = (28*28 * 256) + 256\n",
        "fc2_params = (256 * 2128) + 2128\n",
        "fc3_params = (2128 * 10) + 10\n",
        "\n",
        "params_total = fc1_params + fc2_params + fc3_params\n",
        "params_total"
      ],
      "metadata": {
        "id": "MvGiuoykrzzJ",
        "colab": {
          "base_uri": "https://localhost:8080/"
        },
        "outputId": "b6008dfb-f85a-447a-bd74-63eef2009379"
      },
      "execution_count": null,
      "outputs": [
        {
          "output_type": "execute_result",
          "data": {
            "text/plain": [
              "769146"
            ]
          },
          "metadata": {},
          "execution_count": 8
        }
      ]
    },
    {
      "cell_type": "markdown",
      "source": [
        "### Задание 3. Напишите код для обучения модели\n",
        "\n",
        "**5** баллов\n",
        "\n",
        "Можно (и нужно) подглядывать в код семинара по пайторчу. Вам нужно создать модель, определить функцию потерь и оптимизатор (начнем с `SGD`). Дальше нужно обучать модель, при помощи тренировочного `Dataloader'a` и считать лосс на тренировочном и тестовом `Dataloader'ах`."
      ],
      "metadata": {
        "id": "iwGllji2M4lp"
      }
    },
    {
      "cell_type": "markdown",
      "source": [
        "Напишем функцию для рассчета `accuracy`:"
      ],
      "metadata": {
        "id": "Grv9xcybRfCX"
      }
    },
    {
      "cell_type": "code",
      "source": [
        "def get_accuracy(model, dataloader):\n",
        "    \"\"\"\n",
        "    model - обученная нейронная сеть\n",
        "    dataloader - даталоадер, на котором вы хотите посчитать accuracy\n",
        "    \"\"\"\n",
        "    correct = 0\n",
        "    total = 0\n",
        "    with torch.no_grad(): # Тензоры внутри этого блока будут иметь requires_grad=False\n",
        "        for images, labels in dataloader:\n",
        "            outputs = model(images)\n",
        "            _, predicted = torch.max(outputs.data, 1)\n",
        "            total += labels.size(0)\n",
        "            correct += (predicted == labels).sum().item()\n",
        "    accuracy = correct / total\n",
        "    \n",
        "    return accuracy"
      ],
      "metadata": {
        "id": "9D2QPFe5JdVc"
      },
      "execution_count": null,
      "outputs": []
    },
    {
      "cell_type": "markdown",
      "source": [
        "#### Основной цикл обучения\n",
        "\n",
        "Этот код можно (и зачастую нужно) выносить в отдельную функцию, но пока что можете это не делать, все по желанию)"
      ],
      "metadata": {
        "id": "D3EmoWJyTBkE"
      }
    },
    {
      "cell_type": "code",
      "source": [
        "# Создадим объект модели\n",
        "fc_net = FCNet()\n",
        "# Определим функцию потерь\n",
        "loss_function = nn.CrossEntropyLoss()\n",
        "# Создадим оптимизатор для нашей сети\n",
        "lr = 0.001 # скорость обучения\n",
        "optimizer = torch.optim.Adam(fc_net.parameters(), lr=3e-4)"
      ],
      "metadata": {
        "id": "uIZKSOdgUi3e"
      },
      "execution_count": null,
      "outputs": []
    },
    {
      "cell_type": "markdown",
      "source": [
        "Напишите цикл обучения. Для начала хватит 10 эпох. Какое значение `accuracy` на тестовой выборке удалось получить?"
      ],
      "metadata": {
        "id": "uKYzXFqoX_fd"
      }
    },
    {
      "cell_type": "code",
      "source": [
        "n_epochs = 10\n",
        "loss_history = []\n",
        "\n",
        "## YOUR CODE HERE\n",
        "for epoch in range(n_epochs):\n",
        "    epoch_loss = 0\n",
        "    for images, labels in trainloader: # Получаем батч тренировочных картинок\n",
        "        optimizer.zero_grad() # чтобы не было как в лог регрессии, когда мы не обнуляли градиенты\n",
        "        outputs = fc_net(images) # делаем предсказания\n",
        "        loss = loss_function(outputs, labels) # считаем лосс\n",
        "        loss.backward() # считаем градиенты\n",
        "        optimizer.step() # делаем шаг градиентного спуска\n",
        "\n",
        "        epoch_loss += loss.item()\n",
        "\n",
        "    loss_history.append(epoch_loss/len(trainloader))\n",
        "    \n",
        "    print(f\"Epoch={epoch+1} loss={loss_history[epoch]:.4f}\")"
      ],
      "metadata": {
        "id": "Ma2bshC6MxI6",
        "colab": {
          "base_uri": "https://localhost:8080/"
        },
        "outputId": "7a3cd17a-8596-4953-cca1-5c43a1168d6a"
      },
      "execution_count": null,
      "outputs": [
        {
          "output_type": "stream",
          "name": "stdout",
          "text": [
            "Epoch=1 loss=0.7042\n",
            "Epoch=2 loss=0.3242\n",
            "Epoch=3 loss=0.2308\n",
            "Epoch=4 loss=0.1775\n",
            "Epoch=5 loss=0.1378\n",
            "Epoch=6 loss=0.1105\n",
            "Epoch=7 loss=0.0873\n",
            "Epoch=8 loss=0.0701\n",
            "Epoch=9 loss=0.0558\n",
            "Epoch=10 loss=0.0436\n"
          ]
        }
      ]
    },
    {
      "cell_type": "code",
      "source": [
        "get_accuracy(fc_net, testloader)"
      ],
      "metadata": {
        "id": "2cB5LRbrS3BN",
        "colab": {
          "base_uri": "https://localhost:8080/"
        },
        "outputId": "3f9914eb-08b5-4652-ca39-bfa767e6df60"
      },
      "execution_count": null,
      "outputs": [
        {
          "output_type": "execute_result",
          "data": {
            "text/plain": [
              "0.9041"
            ]
          },
          "metadata": {},
          "execution_count": 12
        }
      ]
    },
    {
      "cell_type": "markdown",
      "source": [
        "### Задание 4. Изучение влияния нормализации\n",
        "\n",
        "**3** балла\n",
        "\n",
        "Вы могли заметить, что мы забыли провести нормализацию наших данных, а для нейронных сетей это может быть очень критично.\n",
        "\n",
        "Нормализуйте данные.\n",
        "\n",
        "* Подсчитайте среднее значение и стандартное отклонение интенсивности пикселей для всех тренировочных данных\n",
        "* Нормализуйте данные с использованием этих параметров (используйте трансформацию `Normalize`)\n",
        "\n",
        "\n",
        "Оцените влияние нормировки данных."
      ],
      "metadata": {
        "id": "4HTJzBM8Yk1R"
      }
    },
    {
      "cell_type": "code",
      "source": [
        "mean = np.array([images.mean().item() for images, labels in trainloader]).mean()\n",
        "std = np.array([images.std().item() for images, labels in trainloader]).std()\n",
        "print(mean, std)\n",
        "\n",
        "transform_with_norm = torchvision.transforms.Compose([\n",
        "                torchvision.transforms.ToTensor(),\n",
        "                torchvision.transforms.Normalize(mean, std)\n",
        "            ])\n",
        "\n",
        "trainset.transform = transform_with_norm \n",
        "testset.transform = transform_with_norm"
      ],
      "metadata": {
        "id": "FHlDaYWGR6YA",
        "colab": {
          "base_uri": "https://localhost:8080/"
        },
        "outputId": "9faf33ea-8818-479b-da70-3d0270431baf"
      },
      "execution_count": null,
      "outputs": [
        {
          "output_type": "stream",
          "name": "stdout",
          "text": [
            "0.19178504950188577 0.003183476582029937\n"
          ]
        }
      ]
    },
    {
      "cell_type": "code",
      "source": [
        "fc_net = FCNet()\n",
        "loss_function = nn.CrossEntropyLoss()\n",
        "lr = 0.001\n",
        "optimizer = torch.optim.Adam(fc_net.parameters(), lr=3e-4)"
      ],
      "metadata": {
        "id": "Qj93J3X_R6aa"
      },
      "execution_count": null,
      "outputs": []
    },
    {
      "cell_type": "code",
      "source": [
        "n_epochs = 10\n",
        "loss_history = []\n",
        "\n",
        "## YOUR CODE HERE\n",
        "for epoch in range(n_epochs):\n",
        "    epoch_loss = 0\n",
        "    for images, labels in trainloader: # Получаем батч тренировочных картинок\n",
        "        optimizer.zero_grad() # чтобы не было как в лог регрессии, когда мы не обнуляли градиенты\n",
        "        outputs = fc_net(images) # делаем предсказания\n",
        "        loss = loss_function(outputs, labels) # считаем лосс\n",
        "        loss.backward() # считаем градиенты\n",
        "        optimizer.step() # делаем шаг градиентного спуска\n",
        "\n",
        "        epoch_loss += loss.item()\n",
        "\n",
        "    loss_history.append(epoch_loss/len(trainloader))\n",
        "    \n",
        "    print(f\"Epoch={epoch+1} loss={loss_history[epoch]:.4f}\")"
      ],
      "metadata": {
        "id": "VWZtYBCvAoWQ",
        "colab": {
          "base_uri": "https://localhost:8080/"
        },
        "outputId": "44a0370f-eedc-404c-d4c0-28d62f54e9c0"
      },
      "execution_count": null,
      "outputs": [
        {
          "output_type": "stream",
          "name": "stdout",
          "text": [
            "Epoch=1 loss=1.0901\n",
            "Epoch=2 loss=0.2032\n",
            "Epoch=3 loss=0.0983\n",
            "Epoch=4 loss=0.0552\n",
            "Epoch=5 loss=0.0411\n",
            "Epoch=6 loss=0.0381\n",
            "Epoch=7 loss=0.0549\n",
            "Epoch=8 loss=0.0717\n",
            "Epoch=9 loss=0.0578\n",
            "Epoch=10 loss=0.0529\n"
          ]
        }
      ]
    },
    {
      "cell_type": "code",
      "source": [
        "get_accuracy(fc_net, testloader)"
      ],
      "metadata": {
        "id": "Gfbv9OIAAoYT",
        "colab": {
          "base_uri": "https://localhost:8080/"
        },
        "outputId": "1063f0f0-36b4-4f2f-f6b3-e59ddeb77494"
      },
      "execution_count": null,
      "outputs": [
        {
          "output_type": "execute_result",
          "data": {
            "text/plain": [
              "0.8684"
            ]
          },
          "metadata": {},
          "execution_count": 16
        }
      ]
    },
    {
      "cell_type": "markdown",
      "source": [
        "Как изменилась `accuracy` после нормализации?"
      ],
      "metadata": {
        "id": "RcIJvhWkcjlh"
      }
    },
    {
      "cell_type": "markdown",
      "source": [
        "**Ответ:** Уменьшилось"
      ],
      "metadata": {
        "id": "BzibdzvkEYPQ"
      }
    },
    {
      "cell_type": "markdown",
      "source": [
        "### Задание 5. Изучение влияния функции активации\n",
        "\n",
        "**3** балла\n",
        "\n",
        "Исследуйте влияние функций активации на скорость обучения и точность предсказаний модели.\n",
        "\n",
        "Используйте три функции:\n",
        "\n",
        "* [Sigmoid](https://pytorch.org/docs/stable/nn.functional.html#sigmoid)\n",
        "* [GELU](https://pytorch.org/docs/stable/nn.functional.html#gelu)\n",
        "* [Tanh](https://pytorch.org/docs/stable/generated/torch.nn.Tanh.html#torch.nn.Tanh)"
      ],
      "metadata": {
        "id": "atcfzu4acxP2"
      }
    },
    {
      "cell_type": "code",
      "source": [
        "## YOUR CODE HERE\n",
        "class MyFCNet(nn.Module):\n",
        "    def __init__(self, last_func):\n",
        "        # Тут можно сделать многое: передавать число слоев, входных признаков и тд\n",
        "        # но пока что ограничимся чем-то простым\n",
        "\n",
        "        super().__init__() # Не нужно забывать про это, иначе ничего не сработает\n",
        "\n",
        "        # Опрелелим два слоя\n",
        "        # fc - fully connected (по сути значит линейные слои)\n",
        "\n",
        "        # in_features число входов у каждого нейрона, out_features число нейронов\n",
        "        self.fc1 = nn.Linear(in_features=28*28, out_features=256)\n",
        "        # in_features число входов у каждого нейрона, out_features число нейронов\n",
        "        self.fc2 = nn.Linear(in_features=256, out_features=2128)\n",
        "        # in_features число нейронов пред слоя, out_features число классов (10)\n",
        "        self.fc3 = nn.Linear(in_features=2128, out_features=10)\n",
        "\n",
        "        # activation function\n",
        "        self.last_func = last_func\n",
        "        \n",
        "\n",
        "    def forward(self, x):  # Forward вызывается внутри метода __call__ родительского класса\n",
        "        ## x -> тензор размерности (BATCH_SIZE, N_CHANNELS, WIDTH, HEIGHT)\n",
        "        ## надо подумать над тем, что у нас полносвязные слои принимают векторы\n",
        "\n",
        "        x = x.view(-1, 28*28) # переведем картинку в вектор\n",
        "        x = self.fc1(x)\n",
        "        x = F.relu(x)\n",
        "        x = self.fc2(x)\n",
        "        x = self.last_func(x)\n",
        "        x = self.fc3(x)\n",
        "\n",
        "        return x # logits"
      ],
      "metadata": {
        "id": "bAESPpjGa3M1"
      },
      "execution_count": null,
      "outputs": []
    },
    {
      "cell_type": "code",
      "source": [
        "n_epochs = 10\n",
        "\n",
        "sigmoid = MyFCNet(F.sigmoid)\n",
        "gelu = MyFCNet(F.gelu)\n",
        "tanh = MyFCNet(F.tanh)\n",
        "\n",
        "optimizer1 = torch.optim.Adam(sigmoid.parameters(), lr=3e-4)\n",
        "optimizer2 = torch.optim.Adam(gelu.parameters(), lr=3e-4)\n",
        "optimizer3 = torch.optim.Adam(tanh.parameters(), lr=3e-4)\n",
        "\n",
        "## YOUR CODE HERE\n",
        "for epoch in range(n_epochs):\n",
        "    epoch_loss1, epoch_loss2, epoch_loss3 = 0, 0, 0\n",
        "    for images, labels in trainloader: # Получаем батч тренировочных картинок\n",
        "        optimizer1.zero_grad() # чтобы не было как в лог регрессии, когда мы не обнуляли градиенты\n",
        "        optimizer2.zero_grad()\n",
        "        optimizer3.zero_grad()\n",
        "\n",
        "        outputs1 = sigmoid(images) # делаем предсказания\n",
        "        outputs2 = gelu(images)\n",
        "        outputs3 = tanh(images)\n",
        "\n",
        "        loss1 = loss_function(outputs1, labels) # считаем лосс\n",
        "        loss1.backward() # считаем градиенты\n",
        "        optimizer1.step() # делаем шаг градиентного спуска\n",
        "\n",
        "        loss2 = loss_function(outputs2, labels)\n",
        "        loss2.backward()\n",
        "        optimizer2.step() \n",
        "\n",
        "        loss3 = loss_function(outputs3, labels)\n",
        "        loss3.backward()\n",
        "        optimizer3.step() \n",
        "\n",
        "        epoch_loss1 += loss1.item()\n",
        "        epoch_loss2 += loss2.item()\n",
        "        epoch_loss3 += loss3.item()\n",
        "\n",
        "\n",
        "    lhe1 = epoch_loss1 / len(trainloader)\n",
        "    lhe2 = epoch_loss2 / len(trainloader)\n",
        "    lhe3 = epoch_loss3 / len(trainloader)\n",
        "\n",
        "    print(f\"Epoch={epoch+1} Losses: Sigmoid {lhe1:.4f}, Gelu {lhe2:.4f}, tahn {lhe3:.4f}\")"
      ],
      "metadata": {
        "id": "GdvHSFeKa2sW",
        "colab": {
          "base_uri": "https://localhost:8080/"
        },
        "outputId": "8e23e52a-276d-4ca5-d315-f0f7f7ddceda"
      },
      "execution_count": null,
      "outputs": [
        {
          "output_type": "stream",
          "name": "stdout",
          "text": [
            "Epoch=1 Losses: Sigmoid 0.5402, Gelu 1.0396, tahn 0.5205\n",
            "Epoch=2 Losses: Sigmoid 0.2102, Gelu 0.2086, tahn 0.2292\n",
            "Epoch=3 Losses: Sigmoid 0.1313, Gelu 0.1035, tahn 0.1603\n",
            "Epoch=4 Losses: Sigmoid 0.0859, Gelu 0.0578, tahn 0.1195\n",
            "Epoch=5 Losses: Sigmoid 0.0561, Gelu 0.0457, tahn 0.0902\n",
            "Epoch=6 Losses: Sigmoid 0.0374, Gelu 0.0555, tahn 0.0676\n",
            "Epoch=7 Losses: Sigmoid 0.0220, Gelu 0.0603, tahn 0.0510\n",
            "Epoch=8 Losses: Sigmoid 0.0122, Gelu 0.0552, tahn 0.0395\n",
            "Epoch=9 Losses: Sigmoid 0.0068, Gelu 0.0633, tahn 0.0320\n",
            "Epoch=10 Losses: Sigmoid 0.0032, Gelu 0.0566, tahn 0.0221\n"
          ]
        }
      ]
    },
    {
      "cell_type": "code",
      "source": [
        "print(f'Accuracy: Sigmoid {get_accuracy(sigmoid, testloader)}, Gelu {get_accuracy(gelu, testloader)}, tahn {get_accuracy(tanh, testloader)}')"
      ],
      "metadata": {
        "id": "zBok8pXNa2vA",
        "colab": {
          "base_uri": "https://localhost:8080/"
        },
        "outputId": "96fa7763-a82d-42e6-e8dc-fbe3d8f07a95"
      },
      "execution_count": null,
      "outputs": [
        {
          "output_type": "stream",
          "name": "stdout",
          "text": [
            "Accuracy: Sigmoid 0.9011, Gelu 0.88, tahn 0.9008\n"
          ]
        }
      ]
    },
    {
      "cell_type": "markdown",
      "source": [
        "С использованием какой функции активации удалось досчить наибольшей `accuracy`?"
      ],
      "metadata": {
        "id": "aG2Oyxy2egVV"
      }
    },
    {
      "cell_type": "markdown",
      "source": [
        "**Ответ:** Sigmoid"
      ],
      "metadata": {
        "id": "WS1ZzqJUEhOn"
      }
    },
    {
      "cell_type": "markdown",
      "source": [
        "### Задание 6. Другие оптимизаторы\n",
        "\n",
        "**4** балла\n",
        "\n",
        "Исследуйте влияние оптимизаторов на скорость обучения и точность предсказаний модели.\n",
        "\n",
        "Попробуйте следующие:\n",
        "\n",
        "* [Adam](https://pytorch.org/docs/stable/generated/torch.optim.Adam.html#torch.optim.Adam)\n",
        "* [RMSprop](https://pytorch.org/docs/stable/generated/torch.optim.RMSprop.html#torch.optim.RMSprop)\n",
        "* [Adagrad](https://pytorch.org/docs/stable/generated/torch.optim.Adagrad.html#torch.optim.Adagrad)\n",
        "\n",
        "Вам нужно снова обучить 3 модели и сравнить их перформанс (функцию активации используйте ту, которая показала себя лучше всего)."
      ],
      "metadata": {
        "id": "20Ls3Bfsifqd"
      }
    },
    {
      "cell_type": "code",
      "source": [
        "n_epochs = 10\n",
        "\n",
        "sigmoid1 = MyFCNet(F.sigmoid)\n",
        "sigmoid2 = MyFCNet(F.sigmoid)\n",
        "sigmoid3 = MyFCNet(F.sigmoid)\n",
        "\n",
        "optimizer1 = torch.optim.Adam(sigmoid1.parameters(), lr=3e-4)\n",
        "optimizer2 = torch.optim.RMSprop(sigmoid2.parameters(), lr=3e-4)\n",
        "optimizer3 = torch.optim.Adagrad(sigmoid3.parameters(), lr=3e-4)\n",
        "\n",
        "for epoch in range(n_epochs):\n",
        "    epoch_loss1, epoch_loss2, epoch_loss3 = 0, 0, 0\n",
        "    for images, labels in trainloader: # Получаем батч тренировочных картинок\n",
        "        optimizer1.zero_grad() # чтобы не было как в лог регрессии, когда мы не обнуляли градиенты\n",
        "        optimizer2.zero_grad()\n",
        "        optimizer3.zero_grad()\n",
        "\n",
        "        outputs1 = sigmoid1(images) # делаем предсказания\n",
        "        outputs2 = sigmoid2(images)\n",
        "        outputs3 = sigmoid3(images)\n",
        "\n",
        "        loss1 = loss_function(outputs1, labels) # считаем лосс\n",
        "        loss1.backward() # считаем градиенты\n",
        "        optimizer1.step() # делаем шаг градиентного спуска\n",
        "\n",
        "        loss2 = loss_function(outputs2, labels)\n",
        "        loss2.backward()\n",
        "        optimizer2.step() \n",
        "\n",
        "        loss3 = loss_function(outputs3, labels)\n",
        "        loss3.backward()\n",
        "        optimizer3.step() \n",
        "\n",
        "        epoch_loss1 += loss1.item()\n",
        "        epoch_loss2 += loss2.item()\n",
        "        epoch_loss3 += loss3.item()\n",
        "\n",
        "\n",
        "    lhe1 = epoch_loss1 / len(trainloader)\n",
        "    lhe2 = epoch_loss2 / len(trainloader)\n",
        "    lhe3 = epoch_loss3 / len(trainloader)\n",
        "\n",
        "    print(f\"Epoch={epoch+1} Losses: Adam {lhe1:.4f}, RMSprop {lhe2:.4f}, Adagrad {lhe3:.4f}\")"
      ],
      "metadata": {
        "id": "rzL2LdA-ifJh",
        "colab": {
          "base_uri": "https://localhost:8080/"
        },
        "outputId": "cdb12dab-f3e4-4077-b88e-22682bebf715"
      },
      "execution_count": null,
      "outputs": [
        {
          "output_type": "stream",
          "name": "stdout",
          "text": [
            "Epoch=1 Losses: Adam 0.5465, RMSprop 0.4373, Adagrad 1.0414\n",
            "Epoch=2 Losses: Adam 0.2122, RMSprop 0.1816, Adagrad 0.6543\n",
            "Epoch=3 Losses: Adam 0.1364, RMSprop 0.1152, Adagrad 0.5574\n",
            "Epoch=4 Losses: Adam 0.0887, RMSprop 0.0773, Adagrad 0.5033\n",
            "Epoch=5 Losses: Adam 0.0596, RMSprop 0.0522, Adagrad 0.4664\n",
            "Epoch=6 Losses: Adam 0.0369, RMSprop 0.0359, Adagrad 0.4395\n",
            "Epoch=7 Losses: Adam 0.0232, RMSprop 0.0236, Adagrad 0.4171\n",
            "Epoch=8 Losses: Adam 0.0131, RMSprop 0.0179, Adagrad 0.3998\n",
            "Epoch=9 Losses: Adam 0.0071, RMSprop 0.0130, Adagrad 0.3848\n",
            "Epoch=10 Losses: Adam 0.0039, RMSprop 0.0124, Adagrad 0.3713\n"
          ]
        }
      ]
    },
    {
      "cell_type": "code",
      "source": [
        "print(f'Accuracy: Adam {get_accuracy(sigmoid1, testloader)}, RMSprop {get_accuracy(sigmoid2, testloader)}, Adagrad {get_accuracy(sigmoid3, testloader)}')"
      ],
      "metadata": {
        "colab": {
          "base_uri": "https://localhost:8080/"
        },
        "id": "EpTFB6ISm1rN",
        "outputId": "5eaed935-c3aa-4128-daef-e002b0b6be63"
      },
      "execution_count": null,
      "outputs": [
        {
          "output_type": "stream",
          "name": "stdout",
          "text": [
            "Accuracy: Adam 0.9052, RMSprop 0.9048, Adagrad 0.7568\n"
          ]
        }
      ]
    },
    {
      "cell_type": "markdown",
      "source": [
        "С использованием какого оптимизатора удалось досчить наибольшей `accuracy`?"
      ],
      "metadata": {
        "id": "YSRNhA8NE4Eg"
      }
    },
    {
      "cell_type": "markdown",
      "source": [
        "**Ответ:** Adam"
      ],
      "metadata": {
        "id": "LPkxKuIdE-kL"
      }
    },
    {
      "cell_type": "markdown",
      "source": [
        "### Задание 7. Реализация ReLU\n",
        "\n",
        "**4** балла\n",
        "\n",
        "Самостоятельно реализуйте функцию активации ReLU.\n",
        "Замените в уже обученной модели функцию активации на вашу. Убедитесь что ничего не изменилась."
      ],
      "metadata": {
        "id": "eHA48PsperxS"
      }
    },
    {
      "cell_type": "code",
      "source": [
        "def my_relu(x):\n",
        "  x[x < 0] = 0\n",
        "  return x\n",
        "\n",
        "class CustomReLU(nn.Module):     \n",
        "    def __init__(self):\n",
        "        # Тут можно сделать многое: передавать число слоев, входных признаков и тд\n",
        "        # но пока что ограничимся чем-то простым\n",
        "\n",
        "        super().__init__() # Не нужно забывать про это, иначе ничего не сработает\n",
        "\n",
        "        # Опрелелим два слоя\n",
        "        # fc - fully connected (по сути значит линейные слои)\n",
        "\n",
        "        # in_features число входов у каждого нейрона, out_features число нейронов\n",
        "        self.fc1 = nn.Linear(in_features=28*28, out_features=256)\n",
        "        # in_features число входов у каждого нейрона, out_features число нейронов\n",
        "        self.fc2 = nn.Linear(in_features=256, out_features=2128)\n",
        "        # in_features число нейронов пред слоя, out_features число классов (10)\n",
        "        self.fc3 = nn.Linear(in_features=2128, out_features=10)\n",
        "        \n",
        "\n",
        "    def forward(self, x):  # Forward вызывается внутри метода __call__ родительского класса\n",
        "        ## x -> тензор размерности (BATCH_SIZE, N_CHANNELS, WIDTH, HEIGHT)\n",
        "        ## надо подумать над тем, что у нас полносвязные слои принимают векторы\n",
        "\n",
        "        x = x.view(-1, 28*28) # переведем картинку в вектор\n",
        "        x = self.fc1(x)\n",
        "        x = my_relu(x)\n",
        "        x = self.fc2(x)\n",
        "        x = my_relu(x)\n",
        "        x = self.fc3(x)\n",
        "\n",
        "        return x # logits\n",
        "\n",
        "        return x"
      ],
      "metadata": {
        "id": "63uTkUp-a2xr"
      },
      "execution_count": null,
      "outputs": []
    },
    {
      "cell_type": "markdown",
      "source": [
        "Заново обучите модель и проверьте правильность реализации `CustomReLU`."
      ],
      "metadata": {
        "id": "xsKzxa33fhbN"
      }
    },
    {
      "cell_type": "code",
      "source": [
        "# Создадим объект модели\n",
        "fc_net = CustomReLU()\n",
        "# Определим функцию потерь\n",
        "loss_function = nn.CrossEntropyLoss()\n",
        "# Создадим оптимизатор для нашей сети\n",
        "lr = 0.001 # скорость обучения\n",
        "optimizer = torch.optim.Adam(fc_net.parameters(), lr=3e-4)"
      ],
      "metadata": {
        "id": "ePP55RBeecYh"
      },
      "execution_count": null,
      "outputs": []
    },
    {
      "cell_type": "code",
      "source": [
        "n_epochs = 10\n",
        "\n",
        "## YOUR CODE HERE\n",
        "for epoch in range(n_epochs):\n",
        "    epoch_loss = 0\n",
        "    for images, labels in trainloader: # Получаем батч тренировочных картинок\n",
        "        optimizer.zero_grad() # чтобы не было как в лог регрессии, когда мы не обнуляли градиенты\n",
        "        outputs = fc_net(images) # делаем предсказания\n",
        "        loss = loss_function(outputs, labels) # считаем лосс\n",
        "        loss.backward() # считаем градиенты\n",
        "        optimizer.step() # делаем шаг градиентного спуска\n",
        "\n",
        "        epoch_loss += loss.item()\n",
        "\n",
        "    lhe = epoch_loss/len(trainloader)\n",
        "    \n",
        "    print(f\"Epoch={epoch+1} loss={lhe:.4f}\")"
      ],
      "metadata": {
        "colab": {
          "base_uri": "https://localhost:8080/"
        },
        "id": "9OGG0dWH3g39",
        "outputId": "adc51f2e-5b24-447d-a3de-086d4597a1e6"
      },
      "execution_count": null,
      "outputs": [
        {
          "output_type": "stream",
          "name": "stdout",
          "text": [
            "Epoch=1 loss=1.0758\n",
            "Epoch=2 loss=0.2130\n",
            "Epoch=3 loss=0.1034\n",
            "Epoch=4 loss=0.0625\n",
            "Epoch=5 loss=0.0451\n",
            "Epoch=6 loss=0.0423\n",
            "Epoch=7 loss=0.0527\n",
            "Epoch=8 loss=0.0778\n",
            "Epoch=9 loss=0.0720\n",
            "Epoch=10 loss=0.0500\n"
          ]
        }
      ]
    },
    {
      "cell_type": "code",
      "source": [
        "# lol, comparing to the task #4 it got even more accurate\n",
        "get_accuracy(fc_net, testloader)"
      ],
      "metadata": {
        "colab": {
          "base_uri": "https://localhost:8080/"
        },
        "id": "RblTC7Vs4RzH",
        "outputId": "1d3eb782-6b8a-47af-c3d1-ec98d93c147f"
      },
      "execution_count": null,
      "outputs": [
        {
          "output_type": "execute_result",
          "data": {
            "text/plain": [
              "0.8846"
            ]
          },
          "metadata": {},
          "execution_count": 33
        }
      ]
    },
    {
      "cell_type": "markdown",
      "source": [
        "### Задание 8. Генерация картинок\n",
        "\n",
        "**3** балла\n",
        "\n",
        "Так как вы снова работаете в командах, то придумайте 3 предложения и сгенерируйте при помощи них 3 картинки, используя телеграм бота [ruDALLE](https://t.me/sber_rudalle_xl_bot). Прикрепите сюда ваши картины."
      ],
      "metadata": {
        "id": "vWBG1mMwgN17"
      }
    },
    {
      "cell_type": "markdown",
      "source": [
        "![DALL·E 2023-04-21 11.14.41 - danya (male) marks machine learning homework after 2 months after the deadline.jpg](data:image/jpeg;base64,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)"
      ],
      "metadata": {
        "id": "uL8y6O_XJ0z-"
      }
    },
    {
      "cell_type": "markdown",
      "source": [
        "![DALL·E 2023-04-21 11.28.04 - a Japanese cypher tr to recognise itself.jpg](data:image/jpeg;base64,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)"
      ],
      "metadata": {
        "id": "mlzt_z9WJ3sb"
      }
    },
    {
      "cell_type": "markdown",
      "source": [
        "![DALL·E 2023-04-21 11.29.09 - the team want to finish the project.jpg](data:image/jpeg;base64,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)"
      ],
      "metadata": {
        "id": "tSQWZnWoJ6Ug"
      }
    },
    {
      "cell_type": "code",
      "source": [],
      "metadata": {
        "id": "hlqgll9qecdZ"
      },
      "execution_count": null,
      "outputs": []
    }
  ]
}